{
 "cells": [
  {
   "attachments": {
    "image.png": {
     "image/png": "[encoded data removed]"
    }
   },
   "cell_type": "markdown",
   "metadata": {},
   "source": [
    "### Student Information\n",
    "Name: Lee Huai\n",
    "\n",
    "Student ID: 111065524\n",
    "\n",
    "GitHub ID: chihuahualee828\n",
    "\n",
    "Kaggle name: 一条吉\n",
    "\n",
    "Kaggle private scoreboard snapshot:\n",
    "[Snapshot](img/pic0.png)\n",
    "![image.png](attachment:image.png)"
   ]
  },
  {
   "cell_type": "markdown",
   "metadata": {},
   "source": [
    "---"
   ]
  },
  {
   "cell_type": "markdown",
   "metadata": {},
   "source": [
    "### Instructions"
   ]
  },
  {
   "cell_type": "markdown",
   "metadata": {},
   "source": [
    "1. First: __This part is worth 30% of your grade.__ Do the **take home** exercises in the DM2023-Lab2-master. You may need to copy some cells from the Lab notebook to this notebook. \n",
    "\n",
    "\n",
    "2. Second: __This part is worth 30% of your grade.__ Participate in the in-class [Kaggle Competition](https://www.kaggle.com/t/09b1d0f3f8584d06848252277cb535f2) regarding Emotion Recognition on Twitter by this link https://www.kaggle.com/t/09b1d0f3f8584d06848252277cb535f2. The scoring will be given according to your place in the Private Leaderboard ranking: \n",
    "    - **Bottom 40%**: Get 20% of the 30% available for this section.\n",
    "\n",
    "    - **Top 41% - 100%**: Get (60-x)/6 + 20 points, where x is your ranking in the leaderboard (ie. If you rank 3rd your score will be (60-3)/6 + 20 = 29.5% out of 30%)   \n",
    "    Submit your last submission __BEFORE the deadline (Dec. 27th 11:59 pm, Wednesday)_. Make sure to take a screenshot of your position at the end of the competition and store it as '''pic0.png''' under the **img** folder of this repository and rerun the cell **Student Information**.\n",
    "    \n",
    "\n",
    "3. Third: __This part is worth 30% of your grade.__ A report of your work developping the model for the competition (You can use code and comment it). This report should include what your preprocessing steps, the feature engineering steps and an explanation of your model. You can also mention different things you tried and insights you gained. \n",
    "\n",
    "\n",
    "4. Fourth: __This part is worth 10% of your grade.__ It's hard for us to follow if your code is messy :'(, so please **tidy up your notebook** and **add minimal comments where needed**.\n",
    "\n",
    "\n",
    "Upload your files to your repository then submit the link to it on the corresponding e-learn assignment.\n",
    "\n",
    "Make sure to commit and save your changes to your repository __BEFORE the deadline (Dec. 31th 11:59 pm, Sunday)__. "
   ]
  },
  {
   "cell_type": "code",
   "execution_count": 1,
   "metadata": {},
   "outputs": [],
   "source": [
    "### Begin Assignment Here"
   ]
  },
  {
   "cell_type": "markdown",
   "metadata": {},
   "source": [
    "=============================================================================================================\n",
    "# 1. Take home exercise"
   ]
  },
  {
   "cell_type": "markdown",
   "metadata": {},
   "source": [
    "---\n",
    "### ** >>> Exercise 1 (Take home): **  \n",
    "Plot word frequency for Top 30 words in both train and test dataset. (Hint: refer to DM lab 1)"
   ]
  },
  {
   "cell_type": "code",
   "execution_count": 5,
   "metadata": {},
   "outputs": [
    {
     "data": {
      "text/html": [
       "<div>\n",
       "<style scoped>\n",
       "    .dataframe tbody tr th:only-of-type {\n",
       "        vertical-align: middle;\n",
       "    }\n",
       "\n",
       "    .dataframe tbody tr th {\n",
       "        vertical-align: top;\n",
       "    }\n",
       "\n",
       "    .dataframe thead th {\n",
       "        text-align: right;\n",
       "    }\n",
       "</style>\n",
       "<table border=\"1\" class=\"dataframe\">\n",
       "  <thead>\n",
       "    <tr style=\"text-align: right;\">\n",
       "      <th></th>\n",
       "      <th>id</th>\n",
       "      <th>text</th>\n",
       "      <th>emotion</th>\n",
       "      <th>intensity</th>\n",
       "    </tr>\n",
       "  </thead>\n",
       "  <tbody>\n",
       "    <tr>\n",
       "      <th>0</th>\n",
       "      <td>10000</td>\n",
       "      <td>How the fu*k! Who the heck! moved my fridge!.....</td>\n",
       "      <td>anger</td>\n",
       "      <td>0.938</td>\n",
       "    </tr>\n",
       "    <tr>\n",
       "      <th>1</th>\n",
       "      <td>10001</td>\n",
       "      <td>So my Indian Uber driver just called someone t...</td>\n",
       "      <td>anger</td>\n",
       "      <td>0.896</td>\n",
       "    </tr>\n",
       "    <tr>\n",
       "      <th>2</th>\n",
       "      <td>10002</td>\n",
       "      <td>@DPD_UK I asked for my parcel to be delivered ...</td>\n",
       "      <td>anger</td>\n",
       "      <td>0.896</td>\n",
       "    </tr>\n",
       "    <tr>\n",
       "      <th>3</th>\n",
       "      <td>10003</td>\n",
       "      <td>so ef whichever butt wipe pulled the fire alar...</td>\n",
       "      <td>anger</td>\n",
       "      <td>0.896</td>\n",
       "    </tr>\n",
       "    <tr>\n",
       "      <th>4</th>\n",
       "      <td>10004</td>\n",
       "      <td>Don't join @BTCare they put the phone down on ...</td>\n",
       "      <td>anger</td>\n",
       "      <td>0.896</td>\n",
       "    </tr>\n",
       "  </tbody>\n",
       "</table>\n",
       "</div>"
      ],
      "text/plain": [
       "      id                                               text emotion  intensity\n",
       "0  10000  How the fu*k! Who the heck! moved my fridge!.....   anger      0.938\n",
       "1  10001  So my Indian Uber driver just called someone t...   anger      0.896\n",
       "2  10002  @DPD_UK I asked for my parcel to be delivered ...   anger      0.896\n",
       "3  10003  so ef whichever butt wipe pulled the fire alar...   anger      0.896\n",
       "4  10004  Don't join @BTCare they put the phone down on ...   anger      0.896"
      ]
     },
     "execution_count": 5,
     "metadata": {},
     "output_type": "execute_result"
    }
   ],
   "source": [
    "import pandas as pd\n",
    "\n",
    "### training data\n",
    "anger_train = pd.read_csv(\"../data/semeval/train/anger-ratings-0to1.train.txt\",\n",
    "                         sep=\"\\t\", header=None,names=[\"id\", \"text\", \"emotion\", \"intensity\"])\n",
    "sadness_train = pd.read_csv(\"../data/semeval/train/sadness-ratings-0to1.train.txt\",\n",
    "                         sep=\"\\t\", header=None, names=[\"id\", \"text\", \"emotion\", \"intensity\"])\n",
    "fear_train = pd.read_csv(\"../data/semeval/train/fear-ratings-0to1.train.txt\",\n",
    "                         sep=\"\\t\", header=None, names=[\"id\", \"text\", \"emotion\", \"intensity\"])\n",
    "joy_train = pd.read_csv(\"../data/semeval/train/joy-ratings-0to1.train.txt\",\n",
    "                         sep=\"\\t\", header=None, names=[\"id\", \"text\", \"emotion\", \"intensity\"])\n",
    "\n",
    "# combine 4 sub-dataset\n",
    "train_df = pd.concat([anger_train, fear_train, joy_train, sadness_train], ignore_index=True)\n",
    "train_df.head()"
   ]
  },
  {
   "cell_type": "code",
   "execution_count": 6,
   "metadata": {},
   "outputs": [
    {
     "data": {
      "text/html": [
       "<div>\n",
       "<style scoped>\n",
       "    .dataframe tbody tr th:only-of-type {\n",
       "        vertical-align: middle;\n",
       "    }\n",
       "\n",
       "    .dataframe tbody tr th {\n",
       "        vertical-align: top;\n",
       "    }\n",
       "\n",
       "    .dataframe thead th {\n",
       "        text-align: right;\n",
       "    }\n",
       "</style>\n",
       "<table border=\"1\" class=\"dataframe\">\n",
       "  <thead>\n",
       "    <tr style=\"text-align: right;\">\n",
       "      <th></th>\n",
       "      <th>id</th>\n",
       "      <th>text</th>\n",
       "      <th>emotion</th>\n",
       "      <th>intensity</th>\n",
       "    </tr>\n",
       "  </thead>\n",
       "  <tbody>\n",
       "    <tr>\n",
       "      <th>0</th>\n",
       "      <td>10857</td>\n",
       "      <td>@ZubairSabirPTI  pls dont insult the word 'Molna'</td>\n",
       "      <td>anger</td>\n",
       "      <td>0.479</td>\n",
       "    </tr>\n",
       "    <tr>\n",
       "      <th>1</th>\n",
       "      <td>10858</td>\n",
       "      <td>@ArcticFantasy I would have almost took offens...</td>\n",
       "      <td>anger</td>\n",
       "      <td>0.458</td>\n",
       "    </tr>\n",
       "    <tr>\n",
       "      <th>2</th>\n",
       "      <td>10859</td>\n",
       "      <td>@IllinoisLoyalty that Rutgers game was an abom...</td>\n",
       "      <td>anger</td>\n",
       "      <td>0.562</td>\n",
       "    </tr>\n",
       "    <tr>\n",
       "      <th>3</th>\n",
       "      <td>10860</td>\n",
       "      <td>@CozanGaming that's what lisa asked before she...</td>\n",
       "      <td>anger</td>\n",
       "      <td>0.500</td>\n",
       "    </tr>\n",
       "    <tr>\n",
       "      <th>4</th>\n",
       "      <td>10861</td>\n",
       "      <td>Sometimes I get mad over something so minuscul...</td>\n",
       "      <td>anger</td>\n",
       "      <td>0.708</td>\n",
       "    </tr>\n",
       "  </tbody>\n",
       "</table>\n",
       "</div>"
      ],
      "text/plain": [
       "      id                                               text emotion  intensity\n",
       "0  10857  @ZubairSabirPTI  pls dont insult the word 'Molna'   anger      0.479\n",
       "1  10858  @ArcticFantasy I would have almost took offens...   anger      0.458\n",
       "2  10859  @IllinoisLoyalty that Rutgers game was an abom...   anger      0.562\n",
       "3  10860  @CozanGaming that's what lisa asked before she...   anger      0.500\n",
       "4  10861  Sometimes I get mad over something so minuscul...   anger      0.708"
      ]
     },
     "execution_count": 6,
     "metadata": {},
     "output_type": "execute_result"
    }
   ],
   "source": [
    "### testing data\n",
    "anger_test = pd.read_csv(\"../data/semeval/dev/anger-ratings-0to1.dev.gold.txt\",\n",
    "                         sep=\"\\t\", header=None, names=[\"id\", \"text\", \"emotion\", \"intensity\"])\n",
    "sadness_test = pd.read_csv(\"../data/semeval/dev/sadness-ratings-0to1.dev.gold.txt\",\n",
    "                         sep=\"\\t\", header=None, names=[\"id\", \"text\", \"emotion\", \"intensity\"])\n",
    "fear_test = pd.read_csv(\"../data/semeval/dev/fear-ratings-0to1.dev.gold.txt\",\n",
    "                         sep=\"\\t\", header=None, names=[\"id\", \"text\", \"emotion\", \"intensity\"])\n",
    "joy_test = pd.read_csv(\"../data/semeval/dev/joy-ratings-0to1.dev.gold.txt\",\n",
    "                         sep=\"\\t\", header=None, names=[\"id\", \"text\", \"emotion\", \"intensity\"])\n",
    "\n",
    "# combine 4 sub-dataset\n",
    "test_df = pd.concat([anger_test, fear_test, joy_test, sadness_test], ignore_index=True)\n",
    "test_df.head()"
   ]
  },
  {
   "cell_type": "code",
   "execution_count": 7,
   "metadata": {},
   "outputs": [],
   "source": [
    "# shuffle dataset\n",
    "train_df = train_df.sample(frac=1)\n",
    "test_df = test_df.sample(frac=1)"
   ]
  },
  {
   "cell_type": "code",
   "execution_count": 8,
   "metadata": {},
   "outputs": [],
   "source": [
    "# Answer here\n",
    "from sklearn.feature_extraction.text import CountVectorizer\n",
    "import plotly.express as px\n",
    "import plotly.graph_objects as go\n",
    "import numpy as np"
   ]
  },
  {
   "cell_type": "code",
   "execution_count": 9,
   "metadata": {},
   "outputs": [
    {
     "name": "stdout",
     "output_type": "stream",
     "text": [
      "(3960, 10795)\n",
      "  (0, 8868)\t1\n",
      "  (0, 264)\t1\n",
      "  (0, 9597)\t1\n",
      "  (0, 2146)\t1\n",
      "  (0, 1406)\t1\n",
      "  (0, 3337)\t1\n",
      "  (0, 2475)\t1\n"
     ]
    }
   ],
   "source": [
    "count_vect = CountVectorizer()\n",
    "combined_df = pd.concat([train_df, test_df], ignore_index=True)\n",
    "combined_df.shape\n",
    "word_counts = count_vect.fit_transform(combined_df.text) #learn the vocabulary and return document-term matrix\n",
    "print(word_counts.shape)\n",
    "print(word_counts[0]) # doc index\n"
   ]
  },
  {
   "cell_type": "code",
   "execution_count": 10,
   "metadata": {},
   "outputs": [
    {
     "name": "stdout",
     "output_type": "stream",
     "text": [
      "['the', 'to', 'and', 'you', 'of', 'is', 'it', 'in', 'that', 'my', 'for', 'on', 'be', 'me', 'this', 'so', 'have', 'just', 'not', 'but', 'with', 'at', 'can', 'all', 'like', 'was', 'are', 'your', 'when', 'if']\n"
     ]
    },
    {
     "data": {
      "application/vnd.plotly.v1+json": {
       "config": {
        "plotlyServerURL": "https://plot.ly"
       },
       "data": [
        {
         "marker": {
          "color": [
           1889,
           1427,
           1047,
           878,
           876,
           864,
           800,
           695,
           592,
           587,
           503,
           436,
           423,
           416,
           374,
           362,
           342,
           330,
           327,
           319,
           317,
           299,
           289,
           273,
           267,
           262,
           260,
           253,
           243,
           237
          ],
          "colorbar": {
           "tickvals": [
            237,
            1889
           ],
           "title": {
            "text": "Scaled Value"
           }
          },
          "colorscale": [
           [
            0,
            "rgb(255,245,240)"
           ],
           [
            0.125,
            "rgb(254,224,210)"
           ],
           [
            0.25,
            "rgb(252,187,161)"
           ],
           [
            0.375,
            "rgb(252,146,114)"
           ],
           [
            0.5,
            "rgb(251,106,74)"
           ],
           [
            0.625,
            "rgb(239,59,44)"
           ],
           [
            0.75,
            "rgb(203,24,29)"
           ],
           [
            0.875,
            "rgb(165,15,21)"
           ],
           [
            1,
            "rgb(103,0,13)"
           ]
          ]
         },
         "type": "bar",
         "x": [
          "the",
          "to",
          "and",
          "you",
          "of",
          "is",
          "it",
          "in",
          "that",
          "my",
          "for",
          "on",
          "be",
          "me",
          "this",
          "so",
          "have",
          "just",
          "not",
          "but",
          "with",
          "at",
          "can",
          "all",
          "like",
          "was",
          "are",
          "your",
          "when",
          "if"
         ],
         "y": [
          1889,
          1427,
          1047,
          878,
          876,
          864,
          800,
          695,
          592,
          587,
          503,
          436,
          423,
          416,
          374,
          362,
          342,
          330,
          327,
          319,
          317,
          299,
          289,
          273,
          267,
          262,
          260,
          253,
          243,
          237
         ]
        }
       ],
       "layout": {
        "hovermode": "x",
        "template": {
         "data": {
          "bar": [
           {
            "error_x": {
             "color": "#2a3f5f"
            },
            "error_y": {
             "color": "#2a3f5f"
            },
            "marker": {
             "line": {
              "color": "#E5ECF6",
              "width": 0.5
             },
             "pattern": {
              "fillmode": "overlay",
              "size": 10,
              "solidity": 0.2
             }
            },
            "type": "bar"
           }
          ],
          "barpolar": [
           {
            "marker": {
             "line": {
              "color": "#E5ECF6",
              "width": 0.5
             },
             "pattern": {
              "fillmode": "overlay",
              "size": 10,
              "solidity": 0.2
             }
            },
            "type": "barpolar"
           }
          ],
          "carpet": [
           {
            "aaxis": {
             "endlinecolor": "#2a3f5f",
             "gridcolor": "white",
             "linecolor": "white",
             "minorgridcolor": "white",
             "startlinecolor": "#2a3f5f"
            },
            "baxis": {
             "endlinecolor": "#2a3f5f",
             "gridcolor": "white",
             "linecolor": "white",
             "minorgridcolor": "white",
             "startlinecolor": "#2a3f5f"
            },
            "type": "carpet"
           }
          ],
          "choropleth": [
           {
            "colorbar": {
             "outlinewidth": 0,
             "ticks": ""
            },
            "type": "choropleth"
           }
          ],
          "contour": [
           {
            "colorbar": {
             "outlinewidth": 0,
             "ticks": ""
            },
            "colorscale": [
             [
              0,
              "#0d0887"
             ],
             [
              0.1111111111111111,
              "#46039f"
             ],
             [
              0.2222222222222222,
              "#7201a8"
             ],
             [
              0.3333333333333333,
              "#9c179e"
             ],
             [
              0.4444444444444444,
              "#bd3786"
             ],
             [
              0.5555555555555556,
              "#d8576b"
             ],
             [
              0.6666666666666666,
              "#ed7953"
             ],
             [
              0.7777777777777778,
              "#fb9f3a"
             ],
             [
              0.8888888888888888,
              "#fdca26"
             ],
             [
              1,
              "#f0f921"
             ]
            ],
            "type": "contour"
           }
          ],
          "contourcarpet": [
           {
            "colorbar": {
             "outlinewidth": 0,
             "ticks": ""
            },
            "type": "contourcarpet"
           }
          ],
          "heatmap": [
           {
            "colorbar": {
             "outlinewidth": 0,
             "ticks": ""
            },
            "colorscale": [
             [
              0,
              "#0d0887"
             ],
             [
              0.1111111111111111,
              "#46039f"
             ],
             [
              0.2222222222222222,
              "#7201a8"
             ],
             [
              0.3333333333333333,
              "#9c179e"
             ],
             [
              0.4444444444444444,
              "#bd3786"
             ],
             [
              0.5555555555555556,
              "#d8576b"
             ],
             [
              0.6666666666666666,
              "#ed7953"
             ],
             [
              0.7777777777777778,
              "#fb9f3a"
             ],
             [
              0.8888888888888888,
              "#fdca26"
             ],
             [
              1,
              "#f0f921"
             ]
            ],
            "type": "heatmap"
           }
          ],
          "heatmapgl": [
           {
            "colorbar": {
             "outlinewidth": 0,
             "ticks": ""
            },
            "colorscale": [
             [
              0,
              "#0d0887"
             ],
             [
              0.1111111111111111,
              "#46039f"
             ],
             [
              0.2222222222222222,
              "#7201a8"
             ],
             [
              0.3333333333333333,
              "#9c179e"
             ],
             [
              0.4444444444444444,
              "#bd3786"
             ],
             [
              0.5555555555555556,
              "#d8576b"
             ],
             [
              0.6666666666666666,
              "#ed7953"
             ],
             [
              0.7777777777777778,
              "#fb9f3a"
             ],
             [
              0.8888888888888888,
              "#fdca26"
             ],
             [
              1,
              "#f0f921"
             ]
            ],
            "type": "heatmapgl"
           }
          ],
          "histogram": [
           {
            "marker": {
             "pattern": {
              "fillmode": "overlay",
              "size": 10,
              "solidity": 0.2
             }
            },
            "type": "histogram"
           }
          ],
          "histogram2d": [
           {
            "colorbar": {
             "outlinewidth": 0,
             "ticks": ""
            },
            "colorscale": [
             [
              0,
              "#0d0887"
             ],
             [
              0.1111111111111111,
              "#46039f"
             ],
             [
              0.2222222222222222,
              "#7201a8"
             ],
             [
              0.3333333333333333,
              "#9c179e"
             ],
             [
              0.4444444444444444,
              "#bd3786"
             ],
             [
              0.5555555555555556,
              "#d8576b"
             ],
             [
              0.6666666666666666,
              "#ed7953"
             ],
             [
              0.7777777777777778,
              "#fb9f3a"
             ],
             [
              0.8888888888888888,
              "#fdca26"
             ],
             [
              1,
              "#f0f921"
             ]
            ],
            "type": "histogram2d"
           }
          ],
          "histogram2dcontour": [
           {
            "colorbar": {
             "outlinewidth": 0,
             "ticks": ""
            },
            "colorscale": [
             [
              0,
              "#0d0887"
             ],
             [
              0.1111111111111111,
              "#46039f"
             ],
             [
              0.2222222222222222,
              "#7201a8"
             ],
             [
              0.3333333333333333,
              "#9c179e"
             ],
             [
              0.4444444444444444,
              "#bd3786"
             ],
             [
              0.5555555555555556,
              "#d8576b"
             ],
             [
              0.6666666666666666,
              "#ed7953"
             ],
             [
              0.7777777777777778,
              "#fb9f3a"
             ],
             [
              0.8888888888888888,
              "#fdca26"
             ],
             [
              1,
              "#f0f921"
             ]
            ],
            "type": "histogram2dcontour"
           }
          ],
          "mesh3d": [
           {
            "colorbar": {
             "outlinewidth": 0,
             "ticks": ""
            },
            "type": "mesh3d"
           }
          ],
          "parcoords": [
           {
            "line": {
             "colorbar": {
              "outlinewidth": 0,
              "ticks": ""
             }
            },
            "type": "parcoords"
           }
          ],
          "pie": [
           {
            "automargin": true,
            "type": "pie"
           }
          ],
          "scatter": [
           {
            "fillpattern": {
             "fillmode": "overlay",
             "size": 10,
             "solidity": 0.2
            },
            "type": "scatter"
           }
          ],
          "scatter3d": [
           {
            "line": {
             "colorbar": {
              "outlinewidth": 0,
              "ticks": ""
             }
            },
            "marker": {
             "colorbar": {
              "outlinewidth": 0,
              "ticks": ""
             }
            },
            "type": "scatter3d"
           }
          ],
          "scattercarpet": [
           {
            "marker": {
             "colorbar": {
              "outlinewidth": 0,
              "ticks": ""
             }
            },
            "type": "scattercarpet"
           }
          ],
          "scattergeo": [
           {
            "marker": {
             "colorbar": {
              "outlinewidth": 0,
              "ticks": ""
             }
            },
            "type": "scattergeo"
           }
          ],
          "scattergl": [
           {
            "marker": {
             "colorbar": {
              "outlinewidth": 0,
              "ticks": ""
             }
            },
            "type": "scattergl"
           }
          ],
          "scattermapbox": [
           {
            "marker": {
             "colorbar": {
              "outlinewidth": 0,
              "ticks": ""
             }
            },
            "type": "scattermapbox"
           }
          ],
          "scatterpolar": [
           {
            "marker": {
             "colorbar": {
              "outlinewidth": 0,
              "ticks": ""
             }
            },
            "type": "scatterpolar"
           }
          ],
          "scatterpolargl": [
           {
            "marker": {
             "colorbar": {
              "outlinewidth": 0,
              "ticks": ""
             }
            },
            "type": "scatterpolargl"
           }
          ],
          "scatterternary": [
           {
            "marker": {
             "colorbar": {
              "outlinewidth": 0,
              "ticks": ""
             }
            },
            "type": "scatterternary"
           }
          ],
          "surface": [
           {
            "colorbar": {
             "outlinewidth": 0,
             "ticks": ""
            },
            "colorscale": [
             [
              0,
              "#0d0887"
             ],
             [
              0.1111111111111111,
              "#46039f"
             ],
             [
              0.2222222222222222,
              "#7201a8"
             ],
             [
              0.3333333333333333,
              "#9c179e"
             ],
             [
              0.4444444444444444,
              "#bd3786"
             ],
             [
              0.5555555555555556,
              "#d8576b"
             ],
             [
              0.6666666666666666,
              "#ed7953"
             ],
             [
              0.7777777777777778,
              "#fb9f3a"
             ],
             [
              0.8888888888888888,
              "#fdca26"
             ],
             [
              1,
              "#f0f921"
             ]
            ],
            "type": "surface"
           }
          ],
          "table": [
           {
            "cells": {
             "fill": {
              "color": "#EBF0F8"
             },
             "line": {
              "color": "white"
             }
            },
            "header": {
             "fill": {
              "color": "#C8D4E3"
             },
             "line": {
              "color": "white"
             }
            },
            "type": "table"
           }
          ]
         },
         "layout": {
          "annotationdefaults": {
           "arrowcolor": "#2a3f5f",
           "arrowhead": 0,
           "arrowwidth": 1
          },
          "autotypenumbers": "strict",
          "coloraxis": {
           "colorbar": {
            "outlinewidth": 0,
            "ticks": ""
           }
          },
          "colorscale": {
           "diverging": [
            [
             0,
             "#8e0152"
            ],
            [
             0.1,
             "#c51b7d"
            ],
            [
             0.2,
             "#de77ae"
            ],
            [
             0.3,
             "#f1b6da"
            ],
            [
             0.4,
             "#fde0ef"
            ],
            [
             0.5,
             "#f7f7f7"
            ],
            [
             0.6,
             "#e6f5d0"
            ],
            [
             0.7,
             "#b8e186"
            ],
            [
             0.8,
             "#7fbc41"
            ],
            [
             0.9,
             "#4d9221"
            ],
            [
             1,
             "#276419"
            ]
           ],
           "sequential": [
            [
             0,
             "#0d0887"
            ],
            [
             0.1111111111111111,
             "#46039f"
            ],
            [
             0.2222222222222222,
             "#7201a8"
            ],
            [
             0.3333333333333333,
             "#9c179e"
            ],
            [
             0.4444444444444444,
             "#bd3786"
            ],
            [
             0.5555555555555556,
             "#d8576b"
            ],
            [
             0.6666666666666666,
             "#ed7953"
            ],
            [
             0.7777777777777778,
             "#fb9f3a"
            ],
            [
             0.8888888888888888,
             "#fdca26"
            ],
            [
             1,
             "#f0f921"
            ]
           ],
           "sequentialminus": [
            [
             0,
             "#0d0887"
            ],
            [
             0.1111111111111111,
             "#46039f"
            ],
            [
             0.2222222222222222,
             "#7201a8"
            ],
            [
             0.3333333333333333,
             "#9c179e"
            ],
            [
             0.4444444444444444,
             "#bd3786"
            ],
            [
             0.5555555555555556,
             "#d8576b"
            ],
            [
             0.6666666666666666,
             "#ed7953"
            ],
            [
             0.7777777777777778,
             "#fb9f3a"
            ],
            [
             0.8888888888888888,
             "#fdca26"
            ],
            [
             1,
             "#f0f921"
            ]
           ]
          },
          "colorway": [
           "#636efa",
           "#EF553B",
           "#00cc96",
           "#ab63fa",
           "#FFA15A",
           "#19d3f3",
           "#FF6692",
           "#B6E880",
           "#FF97FF",
           "#FECB52"
          ],
          "font": {
           "color": "#2a3f5f"
          },
          "geo": {
           "bgcolor": "white",
           "lakecolor": "white",
           "landcolor": "#E5ECF6",
           "showlakes": true,
           "showland": true,
           "subunitcolor": "white"
          },
          "hoverlabel": {
           "align": "left"
          },
          "hovermode": "closest",
          "mapbox": {
           "style": "light"
          },
          "paper_bgcolor": "white",
          "plot_bgcolor": "#E5ECF6",
          "polar": {
           "angularaxis": {
            "gridcolor": "white",
            "linecolor": "white",
            "ticks": ""
           },
           "bgcolor": "#E5ECF6",
           "radialaxis": {
            "gridcolor": "white",
            "linecolor": "white",
            "ticks": ""
           }
          },
          "scene": {
           "xaxis": {
            "backgroundcolor": "#E5ECF6",
            "gridcolor": "white",
            "gridwidth": 2,
            "linecolor": "white",
            "showbackground": true,
            "ticks": "",
            "zerolinecolor": "white"
           },
           "yaxis": {
            "backgroundcolor": "#E5ECF6",
            "gridcolor": "white",
            "gridwidth": 2,
            "linecolor": "white",
            "showbackground": true,
            "ticks": "",
            "zerolinecolor": "white"
           },
           "zaxis": {
            "backgroundcolor": "#E5ECF6",
            "gridcolor": "white",
            "gridwidth": 2,
            "linecolor": "white",
            "showbackground": true,
            "ticks": "",
            "zerolinecolor": "white"
           }
          },
          "shapedefaults": {
           "line": {
            "color": "#2a3f5f"
           }
          },
          "ternary": {
           "aaxis": {
            "gridcolor": "white",
            "linecolor": "white",
            "ticks": ""
           },
           "baxis": {
            "gridcolor": "white",
            "linecolor": "white",
            "ticks": ""
           },
           "bgcolor": "#E5ECF6",
           "caxis": {
            "gridcolor": "white",
            "linecolor": "white",
            "ticks": ""
           }
          },
          "title": {
           "x": 0.05
          },
          "xaxis": {
           "automargin": true,
           "gridcolor": "white",
           "linecolor": "white",
           "ticks": "",
           "title": {
            "standoff": 15
           },
           "zerolinecolor": "white",
           "zerolinewidth": 2
          },
          "yaxis": {
           "automargin": true,
           "gridcolor": "white",
           "linecolor": "white",
           "ticks": "",
           "title": {
            "standoff": 15
           },
           "zerolinecolor": "white",
           "zerolinewidth": 2
          }
         }
        },
        "xaxis": {
         "autorange": false,
         "constrain": "domain",
         "fixedrange": false,
         "range": [
          0,
          100
         ],
         "showline": true,
         "tickmode": "array",
         "ticktext": [
          "the",
          "to",
          "and",
          "you",
          "of",
          "is",
          "it",
          "in",
          "that",
          "my",
          "for",
          "on",
          "be",
          "me",
          "this",
          "so",
          "have",
          "just",
          "not",
          "but",
          "with",
          "at",
          "can",
          "all",
          "like",
          "was",
          "are",
          "your",
          "when",
          "if"
         ],
         "tickvals": [
          0,
          1,
          2,
          3,
          4,
          5,
          6,
          7,
          8,
          9,
          10,
          11,
          12,
          13,
          14,
          15,
          16,
          17,
          18,
          19,
          20,
          21,
          22,
          23,
          24,
          25,
          26,
          27,
          28,
          29
         ],
         "title": {
          "text": "term"
         }
        },
        "yaxis": {
         "fixedrange": true,
         "title": {
          "text": "frequency"
         }
        }
       }
      }
     },
     "metadata": {},
     "output_type": "display_data"
    }
   ],
   "source": [
    "term_frequencies = np.asarray(word_counts.sum(axis=0))[0]\n",
    "top_30_indices = term_frequencies.argsort()[::-1][:30]\n",
    "top_30_words = [count_vect.get_feature_names_out()[i] for i in top_30_indices]\n",
    "print(top_30_words)\n",
    "\n",
    "x=top_30_words\n",
    "y=term_frequencies[top_30_indices]\n",
    "# fig = px.bar(x=x, y=y)\n",
    "fig = go.Figure()\n",
    "fig.add_trace(go.Bar(x=x, y=y,\n",
    "                    marker=dict(\n",
    "                    color=y,\n",
    "                    colorscale='Reds', \n",
    "                    colorbar=dict(title='Scaled Value', tickvals=[min(y), max(y)]) \n",
    "                )))\n",
    "\n",
    "\n",
    "# Create a layout for the chart\n",
    "fig.update_xaxes(\n",
    "    title_text=\"term\",\n",
    "    fixedrange=False,\n",
    "    range=[0, 100],\n",
    "    constrain=\"domain\",\n",
    "    tickmode='array',  # Set tickmode to 'array' to use an array of tickvals\n",
    "    tickvals=list(range(len(top_30_words))),  # Set tickvals to the range of x-values\n",
    "    ticktext=x,  # Set ticktext to the x-labels\n",
    "    autorange=False, showline=True\n",
    ")\n",
    "\n",
    "fig.update_yaxes(\n",
    "    title_text=\"frequency\",\n",
    "    fixedrange=True\n",
    ")\n",
    "fig.update_layout(hovermode=\"x\")"
   ]
  },
  {
   "cell_type": "markdown",
   "metadata": {},
   "source": [
    "---\n",
    "### ** >>> Exercise 2 (Take home): **  \n",
    "Generate an embedding using the TF-IDF vectorizer instead of th BOW one with 1000 features and show the feature names for features [100:110]."
   ]
  },
  {
   "cell_type": "code",
   "execution_count": 13,
   "metadata": {},
   "outputs": [],
   "source": [
    "from sklearn.feature_extraction.text import TfidfVectorizer\n",
    "import nltk"
   ]
  },
  {
   "cell_type": "code",
   "execution_count": 15,
   "metadata": {},
   "outputs": [
    {
     "name": "stderr",
     "output_type": "stream",
     "text": [
      "c:\\Users\\nick0\\anaconda3\\envs\\DM\\lib\\site-packages\\sklearn\\feature_extraction\\text.py:525: UserWarning:\n",
      "\n",
      "The parameter 'token_pattern' will not be used since 'tokenizer' is not None'\n",
      "\n"
     ]
    },
    {
     "data": {
      "text/html": [
       "<div>\n",
       "<style scoped>\n",
       "    .dataframe tbody tr th:only-of-type {\n",
       "        vertical-align: middle;\n",
       "    }\n",
       "\n",
       "    .dataframe tbody tr th {\n",
       "        vertical-align: top;\n",
       "    }\n",
       "\n",
       "    .dataframe thead th {\n",
       "        text-align: right;\n",
       "    }\n",
       "</style>\n",
       "<table border=\"1\" class=\"dataframe\">\n",
       "  <thead>\n",
       "    <tr style=\"text-align: right;\">\n",
       "      <th></th>\n",
       "      <th>!</th>\n",
       "      <th>#</th>\n",
       "      <th>$</th>\n",
       "      <th>%</th>\n",
       "      <th>&amp;</th>\n",
       "      <th>'</th>\n",
       "      <th>'d</th>\n",
       "      <th>'ll</th>\n",
       "      <th>'m</th>\n",
       "      <th>'re</th>\n",
       "      <th>...</th>\n",
       "      <th>’</th>\n",
       "      <th>“</th>\n",
       "      <th>”</th>\n",
       "      <th>❤️</th>\n",
       "      <th>😂</th>\n",
       "      <th>😂😂</th>\n",
       "      <th>😕</th>\n",
       "      <th>😡</th>\n",
       "      <th>😭</th>\n",
       "      <th>🙄</th>\n",
       "    </tr>\n",
       "  </thead>\n",
       "  <tbody>\n",
       "    <tr>\n",
       "      <th>0</th>\n",
       "      <td>0.000000</td>\n",
       "      <td>0.000000</td>\n",
       "      <td>0.0</td>\n",
       "      <td>0.0</td>\n",
       "      <td>0.0</td>\n",
       "      <td>0.000000</td>\n",
       "      <td>0.0</td>\n",
       "      <td>0.0</td>\n",
       "      <td>0.0</td>\n",
       "      <td>0.0</td>\n",
       "      <td>...</td>\n",
       "      <td>0.0</td>\n",
       "      <td>0.0</td>\n",
       "      <td>0.0</td>\n",
       "      <td>0.0</td>\n",
       "      <td>0.0</td>\n",
       "      <td>0.0</td>\n",
       "      <td>0.0</td>\n",
       "      <td>0.0</td>\n",
       "      <td>0.0</td>\n",
       "      <td>0.0</td>\n",
       "    </tr>\n",
       "    <tr>\n",
       "      <th>1</th>\n",
       "      <td>0.000000</td>\n",
       "      <td>0.000000</td>\n",
       "      <td>0.0</td>\n",
       "      <td>0.0</td>\n",
       "      <td>0.0</td>\n",
       "      <td>0.000000</td>\n",
       "      <td>0.0</td>\n",
       "      <td>0.0</td>\n",
       "      <td>0.0</td>\n",
       "      <td>0.0</td>\n",
       "      <td>...</td>\n",
       "      <td>0.0</td>\n",
       "      <td>0.0</td>\n",
       "      <td>0.0</td>\n",
       "      <td>0.0</td>\n",
       "      <td>0.0</td>\n",
       "      <td>0.0</td>\n",
       "      <td>0.0</td>\n",
       "      <td>0.0</td>\n",
       "      <td>0.0</td>\n",
       "      <td>0.0</td>\n",
       "    </tr>\n",
       "    <tr>\n",
       "      <th>2</th>\n",
       "      <td>0.000000</td>\n",
       "      <td>0.396573</td>\n",
       "      <td>0.0</td>\n",
       "      <td>0.0</td>\n",
       "      <td>0.0</td>\n",
       "      <td>0.000000</td>\n",
       "      <td>0.0</td>\n",
       "      <td>0.0</td>\n",
       "      <td>0.0</td>\n",
       "      <td>0.0</td>\n",
       "      <td>...</td>\n",
       "      <td>0.0</td>\n",
       "      <td>0.0</td>\n",
       "      <td>0.0</td>\n",
       "      <td>0.0</td>\n",
       "      <td>0.0</td>\n",
       "      <td>0.0</td>\n",
       "      <td>0.0</td>\n",
       "      <td>0.0</td>\n",
       "      <td>0.0</td>\n",
       "      <td>0.0</td>\n",
       "    </tr>\n",
       "    <tr>\n",
       "      <th>3</th>\n",
       "      <td>0.129414</td>\n",
       "      <td>0.320427</td>\n",
       "      <td>0.0</td>\n",
       "      <td>0.0</td>\n",
       "      <td>0.0</td>\n",
       "      <td>0.000000</td>\n",
       "      <td>0.0</td>\n",
       "      <td>0.0</td>\n",
       "      <td>0.0</td>\n",
       "      <td>0.0</td>\n",
       "      <td>...</td>\n",
       "      <td>0.0</td>\n",
       "      <td>0.0</td>\n",
       "      <td>0.0</td>\n",
       "      <td>0.0</td>\n",
       "      <td>0.0</td>\n",
       "      <td>0.0</td>\n",
       "      <td>0.0</td>\n",
       "      <td>0.0</td>\n",
       "      <td>0.0</td>\n",
       "      <td>0.0</td>\n",
       "    </tr>\n",
       "    <tr>\n",
       "      <th>4</th>\n",
       "      <td>0.000000</td>\n",
       "      <td>0.000000</td>\n",
       "      <td>0.0</td>\n",
       "      <td>0.0</td>\n",
       "      <td>0.0</td>\n",
       "      <td>0.000000</td>\n",
       "      <td>0.0</td>\n",
       "      <td>0.0</td>\n",
       "      <td>0.0</td>\n",
       "      <td>0.0</td>\n",
       "      <td>...</td>\n",
       "      <td>0.0</td>\n",
       "      <td>0.0</td>\n",
       "      <td>0.0</td>\n",
       "      <td>0.0</td>\n",
       "      <td>0.0</td>\n",
       "      <td>0.0</td>\n",
       "      <td>0.0</td>\n",
       "      <td>0.0</td>\n",
       "      <td>0.0</td>\n",
       "      <td>0.0</td>\n",
       "    </tr>\n",
       "    <tr>\n",
       "      <th>...</th>\n",
       "      <td>...</td>\n",
       "      <td>...</td>\n",
       "      <td>...</td>\n",
       "      <td>...</td>\n",
       "      <td>...</td>\n",
       "      <td>...</td>\n",
       "      <td>...</td>\n",
       "      <td>...</td>\n",
       "      <td>...</td>\n",
       "      <td>...</td>\n",
       "      <td>...</td>\n",
       "      <td>...</td>\n",
       "      <td>...</td>\n",
       "      <td>...</td>\n",
       "      <td>...</td>\n",
       "      <td>...</td>\n",
       "      <td>...</td>\n",
       "      <td>...</td>\n",
       "      <td>...</td>\n",
       "      <td>...</td>\n",
       "      <td>...</td>\n",
       "    </tr>\n",
       "    <tr>\n",
       "      <th>3608</th>\n",
       "      <td>0.000000</td>\n",
       "      <td>0.000000</td>\n",
       "      <td>0.0</td>\n",
       "      <td>0.0</td>\n",
       "      <td>0.0</td>\n",
       "      <td>0.000000</td>\n",
       "      <td>0.0</td>\n",
       "      <td>0.0</td>\n",
       "      <td>0.0</td>\n",
       "      <td>0.0</td>\n",
       "      <td>...</td>\n",
       "      <td>0.0</td>\n",
       "      <td>0.0</td>\n",
       "      <td>0.0</td>\n",
       "      <td>0.0</td>\n",
       "      <td>0.0</td>\n",
       "      <td>0.0</td>\n",
       "      <td>0.0</td>\n",
       "      <td>0.0</td>\n",
       "      <td>0.0</td>\n",
       "      <td>0.0</td>\n",
       "    </tr>\n",
       "    <tr>\n",
       "      <th>3609</th>\n",
       "      <td>0.000000</td>\n",
       "      <td>0.000000</td>\n",
       "      <td>0.0</td>\n",
       "      <td>0.0</td>\n",
       "      <td>0.0</td>\n",
       "      <td>0.000000</td>\n",
       "      <td>0.0</td>\n",
       "      <td>0.0</td>\n",
       "      <td>0.0</td>\n",
       "      <td>0.0</td>\n",
       "      <td>...</td>\n",
       "      <td>0.0</td>\n",
       "      <td>0.0</td>\n",
       "      <td>0.0</td>\n",
       "      <td>0.0</td>\n",
       "      <td>0.0</td>\n",
       "      <td>0.0</td>\n",
       "      <td>0.0</td>\n",
       "      <td>0.0</td>\n",
       "      <td>0.0</td>\n",
       "      <td>0.0</td>\n",
       "    </tr>\n",
       "    <tr>\n",
       "      <th>3610</th>\n",
       "      <td>0.000000</td>\n",
       "      <td>0.000000</td>\n",
       "      <td>0.0</td>\n",
       "      <td>0.0</td>\n",
       "      <td>0.0</td>\n",
       "      <td>0.178166</td>\n",
       "      <td>0.0</td>\n",
       "      <td>0.0</td>\n",
       "      <td>0.0</td>\n",
       "      <td>0.0</td>\n",
       "      <td>...</td>\n",
       "      <td>0.0</td>\n",
       "      <td>0.0</td>\n",
       "      <td>0.0</td>\n",
       "      <td>0.0</td>\n",
       "      <td>0.0</td>\n",
       "      <td>0.0</td>\n",
       "      <td>0.0</td>\n",
       "      <td>0.0</td>\n",
       "      <td>0.0</td>\n",
       "      <td>0.0</td>\n",
       "    </tr>\n",
       "    <tr>\n",
       "      <th>3611</th>\n",
       "      <td>0.000000</td>\n",
       "      <td>0.074442</td>\n",
       "      <td>0.0</td>\n",
       "      <td>0.0</td>\n",
       "      <td>0.0</td>\n",
       "      <td>0.000000</td>\n",
       "      <td>0.0</td>\n",
       "      <td>0.0</td>\n",
       "      <td>0.0</td>\n",
       "      <td>0.0</td>\n",
       "      <td>...</td>\n",
       "      <td>0.0</td>\n",
       "      <td>0.0</td>\n",
       "      <td>0.0</td>\n",
       "      <td>0.0</td>\n",
       "      <td>0.0</td>\n",
       "      <td>0.0</td>\n",
       "      <td>0.0</td>\n",
       "      <td>0.0</td>\n",
       "      <td>0.0</td>\n",
       "      <td>0.0</td>\n",
       "    </tr>\n",
       "    <tr>\n",
       "      <th>3612</th>\n",
       "      <td>0.000000</td>\n",
       "      <td>0.000000</td>\n",
       "      <td>0.0</td>\n",
       "      <td>0.0</td>\n",
       "      <td>0.0</td>\n",
       "      <td>0.000000</td>\n",
       "      <td>0.0</td>\n",
       "      <td>0.0</td>\n",
       "      <td>0.0</td>\n",
       "      <td>0.0</td>\n",
       "      <td>...</td>\n",
       "      <td>0.0</td>\n",
       "      <td>0.0</td>\n",
       "      <td>0.0</td>\n",
       "      <td>0.0</td>\n",
       "      <td>0.0</td>\n",
       "      <td>0.0</td>\n",
       "      <td>0.0</td>\n",
       "      <td>0.0</td>\n",
       "      <td>0.0</td>\n",
       "      <td>0.0</td>\n",
       "    </tr>\n",
       "  </tbody>\n",
       "</table>\n",
       "<p>3613 rows × 1000 columns</p>\n",
       "</div>"
      ],
      "text/plain": [
       "             !         #    $    %    &         '   'd  'll   'm  're  ...  \\\n",
       "0     0.000000  0.000000  0.0  0.0  0.0  0.000000  0.0  0.0  0.0  0.0  ...   \n",
       "1     0.000000  0.000000  0.0  0.0  0.0  0.000000  0.0  0.0  0.0  0.0  ...   \n",
       "2     0.000000  0.396573  0.0  0.0  0.0  0.000000  0.0  0.0  0.0  0.0  ...   \n",
       "3     0.129414  0.320427  0.0  0.0  0.0  0.000000  0.0  0.0  0.0  0.0  ...   \n",
       "4     0.000000  0.000000  0.0  0.0  0.0  0.000000  0.0  0.0  0.0  0.0  ...   \n",
       "...        ...       ...  ...  ...  ...       ...  ...  ...  ...  ...  ...   \n",
       "3608  0.000000  0.000000  0.0  0.0  0.0  0.000000  0.0  0.0  0.0  0.0  ...   \n",
       "3609  0.000000  0.000000  0.0  0.0  0.0  0.000000  0.0  0.0  0.0  0.0  ...   \n",
       "3610  0.000000  0.000000  0.0  0.0  0.0  0.178166  0.0  0.0  0.0  0.0  ...   \n",
       "3611  0.000000  0.074442  0.0  0.0  0.0  0.000000  0.0  0.0  0.0  0.0  ...   \n",
       "3612  0.000000  0.000000  0.0  0.0  0.0  0.000000  0.0  0.0  0.0  0.0  ...   \n",
       "\n",
       "        ’    “    ”   ❤️    😂   😂😂    😕    😡    😭    🙄  \n",
       "0     0.0  0.0  0.0  0.0  0.0  0.0  0.0  0.0  0.0  0.0  \n",
       "1     0.0  0.0  0.0  0.0  0.0  0.0  0.0  0.0  0.0  0.0  \n",
       "2     0.0  0.0  0.0  0.0  0.0  0.0  0.0  0.0  0.0  0.0  \n",
       "3     0.0  0.0  0.0  0.0  0.0  0.0  0.0  0.0  0.0  0.0  \n",
       "4     0.0  0.0  0.0  0.0  0.0  0.0  0.0  0.0  0.0  0.0  \n",
       "...   ...  ...  ...  ...  ...  ...  ...  ...  ...  ...  \n",
       "3608  0.0  0.0  0.0  0.0  0.0  0.0  0.0  0.0  0.0  0.0  \n",
       "3609  0.0  0.0  0.0  0.0  0.0  0.0  0.0  0.0  0.0  0.0  \n",
       "3610  0.0  0.0  0.0  0.0  0.0  0.0  0.0  0.0  0.0  0.0  \n",
       "3611  0.0  0.0  0.0  0.0  0.0  0.0  0.0  0.0  0.0  0.0  \n",
       "3612  0.0  0.0  0.0  0.0  0.0  0.0  0.0  0.0  0.0  0.0  \n",
       "\n",
       "[3613 rows x 1000 columns]"
      ]
     },
     "execution_count": 15,
     "metadata": {},
     "output_type": "execute_result"
    }
   ],
   "source": [
    "# Answer here\n",
    "tfidf_vectorizer = TfidfVectorizer(max_features=1000, tokenizer=nltk.word_tokenize)\n",
    "\n",
    "# this will compute tfidf score for each sentence and term\n",
    "tfidf_fit = tfidf_vectorizer.fit_transform(train_df.text)\n",
    "\n",
    "features_names_tfidf_1000 = tfidf_vectorizer.get_feature_names_out()\n",
    "\n",
    "tfidf_df = pd.DataFrame(tfidf_fit.toarray(), columns=features_names_tfidf_1000)\n",
    "\n",
    "tfidf_df\n"
   ]
  },
  {
   "cell_type": "code",
   "execution_count": 16,
   "metadata": {},
   "outputs": [
    {
     "data": {
      "text/plain": [
       "array(['awful', 'b', 'baby', 'back', 'bad', 'ball', 'balls', 'bb18', 'bc',\n",
       "       'bday'], dtype=object)"
      ]
     },
     "execution_count": 16,
     "metadata": {},
     "output_type": "execute_result"
    }
   ],
   "source": [
    "features_names_tfidf_1000[100:110]"
   ]
  },
  {
   "cell_type": "markdown",
   "metadata": {},
   "source": [
    "---\n",
    "### ** >>> Exercise 3 (Take home): **  \n",
    "Can you interpret the results above? What do they mean? (answer for below code)"
   ]
  },
  {
   "cell_type": "markdown",
   "metadata": {},
   "source": [
    "##### Answer here:\n",
    "This output confusion matrix demostrates the ground truth and predicted emotion labels of testing data text input into our trained classification model,\n",
    "\n",
    "the y-axis is for true labels, and x-axis is for predicted labels, the diagonal line means the count of correctly predicted emotions for each emotion, \n",
    "\n",
    "for example, here we correctly predict 57 texts with anger ground truth, and 76 texts with fear ground truth etc, the total number of diagonal line 57+76+56+47=236 means the total correctly predicted emotions, that's why we have 236/347=0.68 of total accuracy.\n",
    "\n",
    "The first row of cm 2D-array is [57 18 6 3], meaning that for texts with anger ground truth, 57 are correctly predicted, 18 are predicted wrong as fear, 6 are wrongly predicted as joy, and 3 are wrongly predicted as sadness.\n"
   ]
  },
  {
   "cell_type": "code",
   "execution_count": 20,
   "metadata": {},
   "outputs": [],
   "source": [
    "from sklearn.feature_extraction.text import CountVectorizer"
   ]
  },
  {
   "cell_type": "code",
   "execution_count": 21,
   "metadata": {},
   "outputs": [
    {
     "name": "stderr",
     "output_type": "stream",
     "text": [
      "c:\\Users\\nick0\\anaconda3\\envs\\DM\\lib\\site-packages\\sklearn\\feature_extraction\\text.py:525: UserWarning:\n",
      "\n",
      "The parameter 'token_pattern' will not be used since 'tokenizer' is not None'\n",
      "\n"
     ]
    },
    {
     "data": {
      "text/plain": [
       "(3613, 500)"
      ]
     },
     "execution_count": 21,
     "metadata": {},
     "output_type": "execute_result"
    }
   ],
   "source": [
    "import nltk\n",
    "\n",
    "# build analyzers (bag-of-words)\n",
    "BOW_500 = CountVectorizer(max_features=500, tokenizer=nltk.word_tokenize) \n",
    "\n",
    "# apply analyzer to training data\n",
    "BOW_500.fit(train_df['text'])\n",
    "\n",
    "train_data_BOW_features_500 = BOW_500.transform(train_df['text'])\n",
    "\n",
    "## check dimension\n",
    "train_data_BOW_features_500.shape"
   ]
  },
  {
   "cell_type": "code",
   "execution_count": 22,
   "metadata": {},
   "outputs": [
    {
     "name": "stdout",
     "output_type": "stream",
     "text": [
      "X_train.shape:  (3613, 500)\n",
      "y_train.shape:  (3613,)\n",
      "X_test.shape:  (347, 500)\n",
      "y_test.shape:  (347,)\n"
     ]
    }
   ],
   "source": [
    "from sklearn.tree import DecisionTreeClassifier\n",
    "\n",
    "# for a classificaiton problem, you need to provide both training & testing data\n",
    "X_train = BOW_500.transform(train_df['text'])\n",
    "y_train = train_df['emotion']\n",
    "\n",
    "X_test = BOW_500.transform(test_df['text'])\n",
    "y_test = test_df['emotion']\n",
    "\n",
    "## take a look at data dimension is a good habit  :)\n",
    "print('X_train.shape: ', X_train.shape)\n",
    "print('y_train.shape: ', y_train.shape)\n",
    "print('X_test.shape: ', X_test.shape)\n",
    "print('y_test.shape: ', y_test.shape)"
   ]
  },
  {
   "cell_type": "code",
   "execution_count": 24,
   "metadata": {},
   "outputs": [
    {
     "data": {
      "text/plain": [
       "array(['fear', 'sadness', 'fear', 'anger', 'joy', 'fear', 'sadness',\n",
       "       'fear', 'anger', 'sadness'], dtype=object)"
      ]
     },
     "execution_count": 24,
     "metadata": {},
     "output_type": "execute_result"
    }
   ],
   "source": [
    "## build DecisionTree model\n",
    "DT_model = DecisionTreeClassifier(random_state=1)\n",
    "\n",
    "## training!\n",
    "DT_model = DT_model.fit(X_train, y_train)\n",
    "\n",
    "## predict!\n",
    "y_train_pred = DT_model.predict(X_train)\n",
    "y_test_pred = DT_model.predict(X_test)\n",
    "\n",
    "## so we get the pred result\n",
    "y_test_pred[:10]"
   ]
  },
  {
   "cell_type": "code",
   "execution_count": 25,
   "metadata": {},
   "outputs": [
    {
     "name": "stdout",
     "output_type": "stream",
     "text": [
      "training accuracy: 0.99\n",
      "testing accuracy: 0.68\n"
     ]
    }
   ],
   "source": [
    "## accuracy\n",
    "from sklearn.metrics import accuracy_score\n",
    "\n",
    "acc_train = accuracy_score(y_true=y_train, y_pred=y_train_pred)\n",
    "acc_test = accuracy_score(y_true=y_test, y_pred=y_test_pred)\n",
    "\n",
    "print('training accuracy: {}'.format(round(acc_train, 2)))\n",
    "print('testing accuracy: {}'.format(round(acc_test, 2)))\n"
   ]
  },
  {
   "cell_type": "code",
   "execution_count": 26,
   "metadata": {},
   "outputs": [
    {
     "name": "stdout",
     "output_type": "stream",
     "text": [
      "              precision    recall  f1-score   support\n",
      "\n",
      "       anger       0.66      0.68      0.67        84\n",
      "        fear       0.66      0.69      0.67       110\n",
      "         joy       0.72      0.71      0.71        79\n",
      "     sadness       0.70      0.64      0.67        74\n",
      "\n",
      "    accuracy                           0.68       347\n",
      "   macro avg       0.68      0.68      0.68       347\n",
      "weighted avg       0.68      0.68      0.68       347\n",
      "\n"
     ]
    }
   ],
   "source": [
    "## precision, recall, f1-score,\n",
    "from sklearn.metrics import classification_report\n",
    "\n",
    "print(classification_report(y_true=y_test, y_pred=y_test_pred))"
   ]
  },
  {
   "cell_type": "code",
   "execution_count": 27,
   "metadata": {},
   "outputs": [
    {
     "name": "stdout",
     "output_type": "stream",
     "text": [
      "[[57 18  6  3]\n",
      " [16 76  9  9]\n",
      " [ 6  9 56  8]\n",
      " [ 7 13  7 47]]\n"
     ]
    }
   ],
   "source": [
    "## check by confusion matrix\n",
    "from sklearn.metrics import confusion_matrix\n",
    "\n",
    "cm = confusion_matrix(y_true=y_test, y_pred=y_test_pred) \n",
    "print(cm)"
   ]
  },
  {
   "cell_type": "code",
   "execution_count": 28,
   "metadata": {},
   "outputs": [],
   "source": [
    "# Funciton for visualizing confusion_matrix\n",
    "import matplotlib.pyplot as plt\n",
    "import seaborn as sns\n",
    "import numpy as np\n",
    "import itertools\n",
    "\n",
    "def plot_confusion_matrix(cm, classes, title='Confusion matrix',\n",
    "                          cmap=sns.cubehelix_palette(as_cmap=True)):\n",
    "    \"\"\"\n",
    "    This function is modified from: \n",
    "    http://scikit-learn.org/stable/auto_examples/model_selection/plot_confusion_matrix.html\n",
    "    \"\"\"\n",
    "    classes.sort()\n",
    "    tick_marks = np.arange(len(classes))    \n",
    "    \n",
    "    fig, ax = plt.subplots(figsize=(5,5))\n",
    "    im = ax.imshow(cm, interpolation='nearest', cmap=cmap)\n",
    "    ax.figure.colorbar(im, ax=ax)\n",
    "    ax.set(xticks=np.arange(cm.shape[1]),\n",
    "           yticks=np.arange(cm.shape[0]),\n",
    "           xticklabels = classes,\n",
    "           yticklabels = classes,\n",
    "           title = title,\n",
    "           xlabel = 'Predicted label',\n",
    "           ylabel = 'True label')\n",
    "\n",
    "    fmt = 'd'\n",
    "    thresh = cm.max() / 2.\n",
    "    for i, j in itertools.product(range(cm.shape[0]), range(cm.shape[1])):\n",
    "        plt.text(j, i, format(cm[i, j], fmt), horizontalalignment=\"center\", color=\"white\" if cm[i, j] > thresh else \"black\")\n",
    "    ylim_top = len(classes) - 0.5\n",
    "    plt.ylim([ylim_top, -.5])\n",
    "    plt.tight_layout()\n",
    "    plt.show()"
   ]
  },
  {
   "cell_type": "code",
   "execution_count": 29,
   "metadata": {},
   "outputs": [
    {
     "data": {
      "image/png": "[encoded data removed]",
      "text/plain": [
       "<Figure size 500x500 with 2 Axes>"
      ]
     },
     "metadata": {},
     "output_type": "display_data"
    }
   ],
   "source": [
    "# plot your confusion matrix\n",
    "my_tags = ['anger', 'fear', 'joy', 'sadness']\n",
    "plot_confusion_matrix(cm, classes=my_tags, title='Confusion matrix')"
   ]
  },
  {
   "cell_type": "markdown",
   "metadata": {},
   "source": [
    "---\n",
    "### ** >>> Exercise 4 (Take home): **  \n",
    "Build a model using a ```Naive Bayes``` model and train it. What are the testing results? \n",
    "\n",
    "*Reference*: https://scikit-learn.org/stable/modules/generated/sklearn.naive_bayes.MultinomialNB.html"
   ]
  },
  {
   "cell_type": "code",
   "execution_count": 30,
   "metadata": {},
   "outputs": [],
   "source": [
    "# Answer here\n",
    "from sklearn.naive_bayes import MultinomialNB\n"
   ]
  },
  {
   "cell_type": "code",
   "execution_count": 31,
   "metadata": {},
   "outputs": [
    {
     "name": "stdout",
     "output_type": "stream",
     "text": [
      "(3613, 500) (347, 500)\n"
     ]
    },
    {
     "data": {
      "text/plain": [
       "array(['fear', 'sadness', 'fear', 'fear', 'joy', 'anger', 'sadness',\n",
       "       'fear', 'anger', 'sadness'], dtype='<U7')"
      ]
     },
     "execution_count": 31,
     "metadata": {},
     "output_type": "execute_result"
    }
   ],
   "source": [
    "print(X_train.shape,X_test.shape)\n",
    "\n",
    "mnb = MultinomialNB()\n",
    "mnb.fit(X_train, y_train)\n",
    "\n",
    "y_train_pred = mnb.predict(X_train)\n",
    "y_test_pred = mnb.predict(X_test)\n",
    "y_test_pred[:10]"
   ]
  },
  {
   "cell_type": "code",
   "execution_count": 32,
   "metadata": {},
   "outputs": [
    {
     "name": "stdout",
     "output_type": "stream",
     "text": [
      "training accuracy: 0.792\n",
      "testing accuracy: 0.697\n"
     ]
    }
   ],
   "source": [
    "acc_train = accuracy_score(y_true=y_train, y_pred=y_train_pred)\n",
    "acc_test = accuracy_score(y_true=y_test, y_pred=y_test_pred)\n",
    "\n",
    "print('training accuracy: {}'.format(round(acc_train, 3)))\n",
    "print('testing accuracy: {}'.format(round(acc_test, 3)))"
   ]
  },
  {
   "cell_type": "code",
   "execution_count": 33,
   "metadata": {},
   "outputs": [
    {
     "data": {
      "image/png": "[encoded data removed]",
      "text/plain": [
       "<Figure size 500x500 with 2 Axes>"
      ]
     },
     "metadata": {},
     "output_type": "display_data"
    }
   ],
   "source": [
    "cm = confusion_matrix(y_true=y_test, y_pred=y_test_pred) \n",
    "plot_confusion_matrix(cm, classes=my_tags, title='Confusion matrix')"
   ]
  },
  {
   "cell_type": "markdown",
   "metadata": {},
   "source": [
    "---\n",
    "### ** >>> Exercise 5 (Take home): **  \n",
    "\n",
    "How do the results from the Naive Bayes model and the Decision Tree model compare? How do you interpret these differences? Use the theoretical background covered in class to try and explain these differences."
   ]
  },
  {
   "cell_type": "markdown",
   "metadata": {},
   "source": [
    "### Answer here:\n",
    "As we can see from above, the accuracy for testing datas using NB(0.697) is higher than above DecisionTreeClassifier(0.68):\n",
    "\n",
    "`training accuracy: 0.792, testing accuracy: 0.697`\n",
    "\n",
    "however, we can see the accuracy for training datas is much lower.\n",
    "\n",
    "This can be due to the nature of decision tree:\n",
    "\n",
    "1. Discriminative model\n",
    "2. Easy to construct\n",
    "\n",
    "However, it can easily overfit, meaning that it can have high training accuracy but cannot reflect it on testing data.\n",
    "\n",
    "As for Naive Bayes, it shows less overfitting because:\n",
    "\n",
    "1. It assumes independence between features, instead of estimating complex relationships between features, it only needs to estimate the probabilities of individual features given the class label.\n",
    "2. It works well with categorical data and is effective for both binary and multi-class classification.\n",
    "3. It is computationally efficient and suitable for real-time prediction because of reduced model complexity.\n",
    "\n",
    "However,\n",
    "1. Because it assumes independence between features, which may not hold in scenarios with correlated features.\n",
    "2. It is sensitive to irrelevant features, potentially impacting accuracy when such features are present."
   ]
  },
  {
   "cell_type": "markdown",
   "metadata": {},
   "source": [
    "---\n",
    "### ** >>> Exercise 6 (Take home): **  \n",
    "\n",
    "Plot the Training and Validation Accuracy and Loss (different plots), just like the images below.(Note: the pictures below are an example from a different model). How to interpret the graphs you got? How are they related to the concept of overfitting/underfitting covered in class?\n"
   ]
  },
  {
   "cell_type": "code",
   "execution_count": 37,
   "metadata": {},
   "outputs": [
    {
     "data": {
      "text/html": [
       "<div>\n",
       "<style scoped>\n",
       "    .dataframe tbody tr th:only-of-type {\n",
       "        vertical-align: middle;\n",
       "    }\n",
       "\n",
       "    .dataframe tbody tr th {\n",
       "        vertical-align: top;\n",
       "    }\n",
       "\n",
       "    .dataframe thead th {\n",
       "        text-align: right;\n",
       "    }\n",
       "</style>\n",
       "<table border=\"1\" class=\"dataframe\">\n",
       "  <thead>\n",
       "    <tr style=\"text-align: right;\">\n",
       "      <th></th>\n",
       "      <th>epoch</th>\n",
       "      <th>accuracy</th>\n",
       "      <th>loss</th>\n",
       "      <th>val_accuracy</th>\n",
       "      <th>val_loss</th>\n",
       "    </tr>\n",
       "  </thead>\n",
       "  <tbody>\n",
       "    <tr>\n",
       "      <th>0</th>\n",
       "      <td>0</td>\n",
       "      <td>0.372820</td>\n",
       "      <td>1.321136</td>\n",
       "      <td>0.466859</td>\n",
       "      <td>1.253017</td>\n",
       "    </tr>\n",
       "    <tr>\n",
       "      <th>1</th>\n",
       "      <td>1</td>\n",
       "      <td>0.646277</td>\n",
       "      <td>0.985999</td>\n",
       "      <td>0.654179</td>\n",
       "      <td>0.920849</td>\n",
       "    </tr>\n",
       "    <tr>\n",
       "      <th>2</th>\n",
       "      <td>2</td>\n",
       "      <td>0.797952</td>\n",
       "      <td>0.589421</td>\n",
       "      <td>0.703170</td>\n",
       "      <td>0.784713</td>\n",
       "    </tr>\n",
       "    <tr>\n",
       "      <th>3</th>\n",
       "      <td>3</td>\n",
       "      <td>0.848602</td>\n",
       "      <td>0.415802</td>\n",
       "      <td>0.697406</td>\n",
       "      <td>0.789711</td>\n",
       "    </tr>\n",
       "    <tr>\n",
       "      <th>4</th>\n",
       "      <td>4</td>\n",
       "      <td>0.876834</td>\n",
       "      <td>0.333639</td>\n",
       "      <td>0.717579</td>\n",
       "      <td>0.829265</td>\n",
       "    </tr>\n",
       "    <tr>\n",
       "      <th>5</th>\n",
       "      <td>5</td>\n",
       "      <td>0.905342</td>\n",
       "      <td>0.272594</td>\n",
       "      <td>0.691643</td>\n",
       "      <td>0.887424</td>\n",
       "    </tr>\n",
       "    <tr>\n",
       "      <th>6</th>\n",
       "      <td>6</td>\n",
       "      <td>0.922502</td>\n",
       "      <td>0.223782</td>\n",
       "      <td>0.703170</td>\n",
       "      <td>0.940733</td>\n",
       "    </tr>\n",
       "    <tr>\n",
       "      <th>7</th>\n",
       "      <td>7</td>\n",
       "      <td>0.941046</td>\n",
       "      <td>0.187216</td>\n",
       "      <td>0.694524</td>\n",
       "      <td>0.960366</td>\n",
       "    </tr>\n",
       "    <tr>\n",
       "      <th>8</th>\n",
       "      <td>8</td>\n",
       "      <td>0.951287</td>\n",
       "      <td>0.157368</td>\n",
       "      <td>0.697406</td>\n",
       "      <td>1.048402</td>\n",
       "    </tr>\n",
       "    <tr>\n",
       "      <th>9</th>\n",
       "      <td>9</td>\n",
       "      <td>0.958760</td>\n",
       "      <td>0.141292</td>\n",
       "      <td>0.671470</td>\n",
       "      <td>1.143704</td>\n",
       "    </tr>\n",
       "    <tr>\n",
       "      <th>10</th>\n",
       "      <td>10</td>\n",
       "      <td>0.962081</td>\n",
       "      <td>0.125981</td>\n",
       "      <td>0.685879</td>\n",
       "      <td>1.193268</td>\n",
       "    </tr>\n",
       "    <tr>\n",
       "      <th>11</th>\n",
       "      <td>11</td>\n",
       "      <td>0.969554</td>\n",
       "      <td>0.109476</td>\n",
       "      <td>0.668588</td>\n",
       "      <td>1.217987</td>\n",
       "    </tr>\n",
       "    <tr>\n",
       "      <th>12</th>\n",
       "      <td>12</td>\n",
       "      <td>0.970385</td>\n",
       "      <td>0.105509</td>\n",
       "      <td>0.674352</td>\n",
       "      <td>1.259443</td>\n",
       "    </tr>\n",
       "    <tr>\n",
       "      <th>13</th>\n",
       "      <td>13</td>\n",
       "      <td>0.972599</td>\n",
       "      <td>0.095225</td>\n",
       "      <td>0.674352</td>\n",
       "      <td>1.303431</td>\n",
       "    </tr>\n",
       "    <tr>\n",
       "      <th>14</th>\n",
       "      <td>14</td>\n",
       "      <td>0.973429</td>\n",
       "      <td>0.087000</td>\n",
       "      <td>0.668588</td>\n",
       "      <td>1.306024</td>\n",
       "    </tr>\n",
       "    <tr>\n",
       "      <th>15</th>\n",
       "      <td>15</td>\n",
       "      <td>0.975090</td>\n",
       "      <td>0.083828</td>\n",
       "      <td>0.665706</td>\n",
       "      <td>1.375292</td>\n",
       "    </tr>\n",
       "    <tr>\n",
       "      <th>16</th>\n",
       "      <td>16</td>\n",
       "      <td>0.972322</td>\n",
       "      <td>0.083597</td>\n",
       "      <td>0.662824</td>\n",
       "      <td>1.379353</td>\n",
       "    </tr>\n",
       "    <tr>\n",
       "      <th>17</th>\n",
       "      <td>17</td>\n",
       "      <td>0.975367</td>\n",
       "      <td>0.078519</td>\n",
       "      <td>0.665706</td>\n",
       "      <td>1.415535</td>\n",
       "    </tr>\n",
       "    <tr>\n",
       "      <th>18</th>\n",
       "      <td>18</td>\n",
       "      <td>0.976474</td>\n",
       "      <td>0.073857</td>\n",
       "      <td>0.668588</td>\n",
       "      <td>1.433433</td>\n",
       "    </tr>\n",
       "    <tr>\n",
       "      <th>19</th>\n",
       "      <td>19</td>\n",
       "      <td>0.977027</td>\n",
       "      <td>0.069473</td>\n",
       "      <td>0.668588</td>\n",
       "      <td>1.529077</td>\n",
       "    </tr>\n",
       "    <tr>\n",
       "      <th>20</th>\n",
       "      <td>20</td>\n",
       "      <td>0.979242</td>\n",
       "      <td>0.066439</td>\n",
       "      <td>0.671470</td>\n",
       "      <td>1.511098</td>\n",
       "    </tr>\n",
       "    <tr>\n",
       "      <th>21</th>\n",
       "      <td>21</td>\n",
       "      <td>0.975367</td>\n",
       "      <td>0.071216</td>\n",
       "      <td>0.654179</td>\n",
       "      <td>1.563056</td>\n",
       "    </tr>\n",
       "    <tr>\n",
       "      <th>22</th>\n",
       "      <td>22</td>\n",
       "      <td>0.979518</td>\n",
       "      <td>0.060016</td>\n",
       "      <td>0.671470</td>\n",
       "      <td>1.567694</td>\n",
       "    </tr>\n",
       "    <tr>\n",
       "      <th>23</th>\n",
       "      <td>23</td>\n",
       "      <td>0.977027</td>\n",
       "      <td>0.067918</td>\n",
       "      <td>0.665706</td>\n",
       "      <td>1.541876</td>\n",
       "    </tr>\n",
       "    <tr>\n",
       "      <th>24</th>\n",
       "      <td>24</td>\n",
       "      <td>0.977581</td>\n",
       "      <td>0.060361</td>\n",
       "      <td>0.671470</td>\n",
       "      <td>1.593907</td>\n",
       "    </tr>\n",
       "  </tbody>\n",
       "</table>\n",
       "</div>"
      ],
      "text/plain": [
       "    epoch  accuracy      loss  val_accuracy  val_loss\n",
       "0       0  0.372820  1.321136      0.466859  1.253017\n",
       "1       1  0.646277  0.985999      0.654179  0.920849\n",
       "2       2  0.797952  0.589421      0.703170  0.784713\n",
       "3       3  0.848602  0.415802      0.697406  0.789711\n",
       "4       4  0.876834  0.333639      0.717579  0.829265\n",
       "5       5  0.905342  0.272594      0.691643  0.887424\n",
       "6       6  0.922502  0.223782      0.703170  0.940733\n",
       "7       7  0.941046  0.187216      0.694524  0.960366\n",
       "8       8  0.951287  0.157368      0.697406  1.048402\n",
       "9       9  0.958760  0.141292      0.671470  1.143704\n",
       "10     10  0.962081  0.125981      0.685879  1.193268\n",
       "11     11  0.969554  0.109476      0.668588  1.217987\n",
       "12     12  0.970385  0.105509      0.674352  1.259443\n",
       "13     13  0.972599  0.095225      0.674352  1.303431\n",
       "14     14  0.973429  0.087000      0.668588  1.306024\n",
       "15     15  0.975090  0.083828      0.665706  1.375292\n",
       "16     16  0.972322  0.083597      0.662824  1.379353\n",
       "17     17  0.975367  0.078519      0.665706  1.415535\n",
       "18     18  0.976474  0.073857      0.668588  1.433433\n",
       "19     19  0.977027  0.069473      0.668588  1.529077\n",
       "20     20  0.979242  0.066439      0.671470  1.511098\n",
       "21     21  0.975367  0.071216      0.654179  1.563056\n",
       "22     22  0.979518  0.060016      0.671470  1.567694\n",
       "23     23  0.977027  0.067918      0.665706  1.541876\n",
       "24     24  0.977581  0.060361      0.671470  1.593907"
      ]
     },
     "execution_count": 37,
     "metadata": {},
     "output_type": "execute_result"
    }
   ],
   "source": [
    "#Let's take a look at the training log\n",
    "training_log = pd.DataFrame()\n",
    "training_log = pd.read_csv(\"../logs/training_log.csv\")\n",
    "training_log"
   ]
  },
  {
   "cell_type": "code",
   "execution_count": 38,
   "metadata": {},
   "outputs": [
    {
     "name": "stderr",
     "output_type": "stream",
     "text": [
      "C:\\Users\\nick0\\AppData\\Local\\Temp\\ipykernel_6824\\940099295.py:10: MatplotlibDeprecationWarning:\n",
      "\n",
      "Auto-removal of overlapping axes is deprecated since 3.6 and will be removed two minor releases later; explicitly call ax.remove() as needed.\n",
      "\n"
     ]
    },
    {
     "data": {
      "image/png": "[encoded data removed]",
      "text/plain": [
       "<Figure size 1000x500 with 2 Axes>"
      ]
     },
     "metadata": {},
     "output_type": "display_data"
    }
   ],
   "source": [
    "# Answer here\n",
    "train_acc = training_log.accuracy\n",
    "val_acc = training_log.val_accuracy\n",
    "\n",
    "train_loss = training_log.loss\n",
    "val_loss = training_log.val_loss\n",
    "\n",
    "fig = plt.subplots(figsize=(10,5))\n",
    "\n",
    "plt.subplot(1, 2, 1)\n",
    "plt.plot(training_log.epoch, train_acc, color='blue', label='Train accuracy')\n",
    "plt.plot(training_log.epoch, val_acc, color='red', label='Val accuracy')\n",
    "# Adding labels and title\n",
    "plt.xlabel('Epoch')\n",
    "plt.ylabel('Accuracy')\n",
    "plt.title('Accuracy')\n",
    "# Adding a legend\n",
    "plt.legend()\n",
    "# Display the plot\n",
    "\n",
    "\n",
    "plt.subplot(1, 2, 2)\n",
    "plt.plot(training_log.epoch, train_loss, color='blue', label='Train loss')\n",
    "plt.plot(training_log.epoch, val_loss, color='red', label='Val loss')\n",
    "# Adding labels and title\n",
    "plt.xlabel('Epoch')\n",
    "plt.ylabel('Loss')\n",
    "plt.title('Loss')\n",
    "# Adding a legend\n",
    "plt.legend()\n",
    "# Display the plot\n",
    "plt.show()"
   ]
  },
  {
   "cell_type": "markdown",
   "metadata": {},
   "source": [
    "### Ans:\n",
    "We can see as we keep training, the train loss converges, but valid loss is not decreasing but increasing after epoch 3 or 4, this could be due to that the model overfits to the training data and fails to generalize to unseen datas."
   ]
  },
  {
   "cell_type": "markdown",
   "metadata": {},
   "source": [
    "---\n",
    "### ** >>> Exercise 7 (Take home): **  \n",
    "\n",
    "Now, we have the word vectors, but our input data is a sequence of words (or say sentence). \n",
    "How can we utilize these \"word\" vectors to represent the sentence data and train our model?\n"
   ]
  },
  {
   "cell_type": "markdown",
   "metadata": {},
   "source": [
    "1. Build tokenizer word index based on train and test datasets:"
   ]
  },
  {
   "cell_type": "code",
   "execution_count": 39,
   "metadata": {},
   "outputs": [
    {
     "name": "stdout",
     "output_type": "stream",
     "text": [
      "WARNING:tensorflow:From c:\\Users\\nick0\\anaconda3\\envs\\DM\\lib\\site-packages\\keras\\src\\losses.py:2976: The name tf.losses.sparse_softmax_cross_entropy is deprecated. Please use tf.compat.v1.losses.sparse_softmax_cross_entropy instead.\n",
      "\n",
      "11559\n"
     ]
    }
   ],
   "source": [
    "from tensorflow.keras.preprocessing.text import Tokenizer\n",
    "\n",
    "tokenizer  = Tokenizer()\n",
    "tokenizer.fit_on_texts(train_df['text'].tolist() + test_df['text'].tolist())\n",
    "\n",
    "print(len(tokenizer.word_index))"
   ]
  },
  {
   "cell_type": "markdown",
   "metadata": {},
   "source": [
    "2. Use tokenizer to tokenize each sentence, each word in sentence will be mapped to a word index in tokenizer:"
   ]
  },
  {
   "cell_type": "code",
   "execution_count": 40,
   "metadata": {},
   "outputs": [
    {
     "name": "stdout",
     "output_type": "stream",
     "text": [
      "Original sentence: I am in #shock and #awe and the places my #toddler manages to get his dinner., \n",
      "Encoded: [3, 95, 9, 2759, 5, 341, 5, 1, 1304, 10, 1999, 5276, 2, 37, 61, 1564]\n"
     ]
    }
   ],
   "source": [
    "encoded_train = tokenizer.texts_to_sequences(train_df['text'])\n",
    "encoded_test = tokenizer.texts_to_sequences(test_df['text'])\n",
    "\n",
    "print(f\"Original sentence: {train_df['text'].iloc[2]}, \\nEncoded: {encoded_train[2]}\")"
   ]
  },
  {
   "cell_type": "markdown",
   "metadata": {},
   "source": [
    "3. Pad the encoded data with 0:"
   ]
  },
  {
   "cell_type": "code",
   "execution_count": 41,
   "metadata": {},
   "outputs": [
    {
     "name": "stdout",
     "output_type": "stream",
     "text": [
      "(3613, 34)\n",
      "(347, 30)\n"
     ]
    },
    {
     "data": {
      "text/html": [
       "<div>\n",
       "<style scoped>\n",
       "    .dataframe tbody tr th:only-of-type {\n",
       "        vertical-align: middle;\n",
       "    }\n",
       "\n",
       "    .dataframe tbody tr th {\n",
       "        vertical-align: top;\n",
       "    }\n",
       "\n",
       "    .dataframe thead th {\n",
       "        text-align: right;\n",
       "    }\n",
       "</style>\n",
       "<table border=\"1\" class=\"dataframe\">\n",
       "  <thead>\n",
       "    <tr style=\"text-align: right;\">\n",
       "      <th></th>\n",
       "      <th>id</th>\n",
       "      <th>text</th>\n",
       "      <th>emotion</th>\n",
       "      <th>intensity</th>\n",
       "      <th>encoded_labels</th>\n",
       "    </tr>\n",
       "  </thead>\n",
       "  <tbody>\n",
       "    <tr>\n",
       "      <th>2126</th>\n",
       "      <td>30122</td>\n",
       "      <td>Something about these cool, breezy fall days.....</td>\n",
       "      <td>joy</td>\n",
       "      <td>0.729</td>\n",
       "      <td>2</td>\n",
       "    </tr>\n",
       "    <tr>\n",
       "      <th>3189</th>\n",
       "      <td>40362</td>\n",
       "      <td>@PurpleReplisol meden is frowning at you with ...</td>\n",
       "      <td>sadness</td>\n",
       "      <td>0.521</td>\n",
       "      <td>3</td>\n",
       "    </tr>\n",
       "    <tr>\n",
       "      <th>1528</th>\n",
       "      <td>20671</td>\n",
       "      <td>I am in #shock and #awe and the places my #tod...</td>\n",
       "      <td>fear</td>\n",
       "      <td>0.438</td>\n",
       "      <td>1</td>\n",
       "    </tr>\n",
       "    <tr>\n",
       "      <th>2714</th>\n",
       "      <td>30710</td>\n",
       "      <td>Halfway to work and I realize I forgot to put ...</td>\n",
       "      <td>joy</td>\n",
       "      <td>0.250</td>\n",
       "      <td>2</td>\n",
       "    </tr>\n",
       "    <tr>\n",
       "      <th>1448</th>\n",
       "      <td>20591</td>\n",
       "      <td>I always thought I was too empathetic but it's...</td>\n",
       "      <td>fear</td>\n",
       "      <td>0.479</td>\n",
       "      <td>1</td>\n",
       "    </tr>\n",
       "  </tbody>\n",
       "</table>\n",
       "</div>"
      ],
      "text/plain": [
       "         id                                               text  emotion  \\\n",
       "2126  30122  Something about these cool, breezy fall days.....      joy   \n",
       "3189  40362  @PurpleReplisol meden is frowning at you with ...  sadness   \n",
       "1528  20671  I am in #shock and #awe and the places my #tod...     fear   \n",
       "2714  30710  Halfway to work and I realize I forgot to put ...      joy   \n",
       "1448  20591  I always thought I was too empathetic but it's...     fear   \n",
       "\n",
       "      intensity  encoded_labels  \n",
       "2126      0.729               2  \n",
       "3189      0.521               3  \n",
       "1528      0.438               1  \n",
       "2714      0.250               2  \n",
       "1448      0.479               1  "
      ]
     },
     "execution_count": 41,
     "metadata": {},
     "output_type": "execute_result"
    }
   ],
   "source": [
    "from tensorflow.keras.preprocessing.sequence import pad_sequences\n",
    "from sklearn.preprocessing import LabelEncoder\n",
    "\n",
    "padded_encoded_train = pad_sequences(encoded_train, padding='post')\n",
    "padded_encoded_test = pad_sequences(encoded_test, padding='post')\n",
    "\n",
    "print(np.array(padded_encoded_train).shape)\n",
    "print(np.array(padded_encoded_test).shape)\n",
    "\n",
    "label_encoder = LabelEncoder()\n",
    "train_df['encoded_labels'] = label_encoder.fit_transform(train_df['emotion'])\n",
    "train_df.head()\n"
   ]
  },
  {
   "cell_type": "markdown",
   "metadata": {},
   "source": [
    "4. Build the model using keras and train the model:"
   ]
  },
  {
   "cell_type": "code",
   "execution_count": 42,
   "metadata": {},
   "outputs": [
    {
     "name": "stdout",
     "output_type": "stream",
     "text": [
      "WARNING:tensorflow:From c:\\Users\\nick0\\anaconda3\\envs\\DM\\lib\\site-packages\\keras\\src\\backend.py:873: The name tf.get_default_graph is deprecated. Please use tf.compat.v1.get_default_graph instead.\n",
      "\n",
      "Model: \"sequential\"\n",
      "_________________________________________________________________\n",
      " Layer (type)                Output Shape              Param #   \n",
      "=================================================================\n",
      " embedding (Embedding)       (None, 34, 300)           3468000   \n",
      "                                                                 \n",
      " lstm (LSTM)                 (None, 34, 50)            70200     \n",
      "                                                                 \n",
      " lstm_1 (LSTM)               (None, 50)                20200     \n",
      "                                                                 \n",
      " dense (Dense)               (None, 64)                3264      \n",
      "                                                                 \n",
      " dropout (Dropout)           (None, 64)                0         \n",
      "                                                                 \n",
      " dense_1 (Dense)             (None, 4)                 260       \n",
      "                                                                 \n",
      "=================================================================\n",
      "Total params: 3561924 (13.59 MB)\n",
      "Trainable params: 3561924 (13.59 MB)\n",
      "Non-trainable params: 0 (0.00 Byte)\n",
      "_________________________________________________________________\n",
      "Epoch 1/10\n",
      "WARNING:tensorflow:From c:\\Users\\nick0\\anaconda3\\envs\\DM\\lib\\site-packages\\keras\\src\\utils\\tf_utils.py:492: The name tf.ragged.RaggedTensorValue is deprecated. Please use tf.compat.v1.ragged.RaggedTensorValue instead.\n",
      "\n",
      "WARNING:tensorflow:From c:\\Users\\nick0\\anaconda3\\envs\\DM\\lib\\site-packages\\keras\\src\\engine\\base_layer_utils.py:384: The name tf.executing_eagerly_outside_functions is deprecated. Please use tf.compat.v1.executing_eagerly_outside_functions instead.\n",
      "\n",
      "91/91 [==============================] - 3s 19ms/step - loss: 1.3790 - accuracy: 0.3083 - val_loss: 1.3609 - val_accuracy: 0.3389\n",
      "Epoch 2/10\n",
      "91/91 [==============================] - 1s 15ms/step - loss: 1.1571 - accuracy: 0.4225 - val_loss: 1.0385 - val_accuracy: 0.4758\n",
      "Epoch 3/10\n",
      "91/91 [==============================] - 1s 15ms/step - loss: 0.8405 - accuracy: 0.5107 - val_loss: 1.0659 - val_accuracy: 0.4799\n",
      "Epoch 4/10\n",
      "91/91 [==============================] - 1s 15ms/step - loss: 0.7859 - accuracy: 0.5221 - val_loss: 0.9795 - val_accuracy: 0.5187\n",
      "Epoch 5/10\n",
      "91/91 [==============================] - 1s 14ms/step - loss: 0.5921 - accuracy: 0.7394 - val_loss: 0.9976 - val_accuracy: 0.6418\n",
      "Epoch 6/10\n",
      "91/91 [==============================] - 1s 14ms/step - loss: 0.2585 - accuracy: 0.9308 - val_loss: 0.8308 - val_accuracy: 0.7759\n",
      "Epoch 7/10\n",
      "91/91 [==============================] - 1s 14ms/step - loss: 0.1780 - accuracy: 0.9578 - val_loss: 0.6494 - val_accuracy: 0.8119\n",
      "Epoch 8/10\n",
      "91/91 [==============================] - 1s 14ms/step - loss: 0.1025 - accuracy: 0.9789 - val_loss: 0.6483 - val_accuracy: 0.8243\n",
      "Epoch 9/10\n",
      "91/91 [==============================] - 1s 14ms/step - loss: 0.0703 - accuracy: 0.9841 - val_loss: 0.7360 - val_accuracy: 0.8188\n",
      "Epoch 10/10\n",
      "91/91 [==============================] - 1s 14ms/step - loss: 0.0773 - accuracy: 0.9834 - val_loss: 0.6966 - val_accuracy: 0.8216\n"
     ]
    },
    {
     "data": {
      "text/plain": [
       "<keras.src.callbacks.History at 0x28fbb6d86a0>"
      ]
     },
     "execution_count": 42,
     "metadata": {},
     "output_type": "execute_result"
    }
   ],
   "source": [
    "from tensorflow.keras.models import Sequential\n",
    "from tensorflow.keras.layers import Embedding, LSTM, Dense, Dropout\n",
    "from tensorflow.keras.optimizers import Adam\n",
    "from sklearn.model_selection import train_test_split\n",
    "\n",
    "X = padded_encoded_train\n",
    "y = train_df['encoded_labels']\n",
    "\n",
    "# Split train data into train and val 8:2\n",
    "X_train, X_val, y_train, y_val = train_test_split(X, y, test_size=0.2, random_state=42)\n",
    "\n",
    "\n",
    "embedding_dim = 300  \n",
    "vocab_size = len(tokenizer.word_index) + 1\n",
    "max_sequence_length = X.shape[1]\n",
    "\n",
    "model = Sequential()\n",
    "model.add(Embedding(input_dim=vocab_size, output_dim=embedding_dim, input_length=max_sequence_length))\n",
    "model.add(LSTM(units=50, return_sequences=True))\n",
    "model.add(LSTM(units=50))\n",
    "model.add(Dense(units=64, activation='relu'))\n",
    "model.add(Dropout(0.5))\n",
    "model.add(Dense(units=len(label_encoder.classes_), activation='softmax'))\n",
    "\n",
    "\n",
    "optimizer = Adam(learning_rate=0.001)\n",
    "model.compile(optimizer=optimizer, loss='sparse_categorical_crossentropy', metrics=['accuracy'])\n",
    "\n",
    "model.summary()\n",
    "\n",
    "# Train the model\n",
    "epochs = 10  \n",
    "batch_size = 32  \n",
    "model.fit(X_train, y_train, epochs=epochs, batch_size=batch_size, validation_data=(X_val, y_val))\n"
   ]
  },
  {
   "cell_type": "markdown",
   "metadata": {},
   "source": [
    "5. Test our model:"
   ]
  },
  {
   "cell_type": "code",
   "execution_count": 43,
   "metadata": {},
   "outputs": [
    {
     "name": "stdout",
     "output_type": "stream",
     "text": [
      "11/11 [==============================] - 0s 3ms/step - loss: 0.8585 - accuracy: 0.7435\n",
      "0.7435158491134644\n"
     ]
    }
   ],
   "source": [
    "test_df['encoded_labels'] = label_encoder.fit_transform(test_df['emotion'])\n",
    "accuracy = model.evaluate(padded_encoded_test,test_df['encoded_labels'])[1]\n",
    "\n",
    "print(accuracy)"
   ]
  },
  {
   "cell_type": "markdown",
   "metadata": {},
   "source": [
    "---\n",
    "### ** >>> Exercise 8 (Take home): **  \n",
    "\n",
    "Generate a t-SNE visualization to show the 15 words most related to the words \"angry\", \"happy\", \"sad\", \"fear\" (60 words total)."
   ]
  },
  {
   "cell_type": "code",
   "execution_count": 45,
   "metadata": {},
   "outputs": [
    {
     "name": "stdout",
     "output_type": "stream",
     "text": [
      "load ok\n"
     ]
    },
    {
     "data": {
      "text/plain": [
       "[('glad', 0.7408890724182129),\n",
       " ('pleased', 0.6632170677185059),\n",
       " ('ecstatic', 0.6626912355422974),\n",
       " ('overjoyed', 0.6599286794662476),\n",
       " ('thrilled', 0.6514049172401428),\n",
       " ('satisfied', 0.6437949538230896),\n",
       " ('proud', 0.636042058467865),\n",
       " ('delighted', 0.6272379159927368),\n",
       " ('disappointed', 0.6269949674606323),\n",
       " ('excited', 0.6247665882110596)]"
      ]
     },
     "execution_count": 45,
     "metadata": {},
     "output_type": "execute_result"
    }
   ],
   "source": [
    "from gensim.models import KeyedVectors\n",
    "\n",
    "## Note: this model is very huge, this will take some time ...\n",
    "model_path = \"../GoogleNews/GoogleNews-vectors-negative300.bin\"\n",
    "w2v_google_model = KeyedVectors.load_word2vec_format(model_path, binary=True)\n",
    "print('load ok')\n",
    "\n",
    "w2v_google_model.most_similar('happy', topn=10)"
   ]
  },
  {
   "cell_type": "code",
   "execution_count": 46,
   "metadata": {},
   "outputs": [
    {
     "name": "stdout",
     "output_type": "stream",
     "text": [
      "angry_words:  ['angry', 'irate', 'enraged', 'indignant', 'incensed', 'annoyed', 'agitated', 'frustrated', 'furious', 'unhappy', 'outraged', 'livid', 'irritated', 'exasperated', 'angrier', 'Angry']\n",
      "happy_words:  ['happy', 'glad', 'pleased', 'ecstatic', 'overjoyed', 'thrilled', 'satisfied', 'proud', 'delighted', 'disappointed', 'excited', 'happier', 'Said_Hirschbeck', 'elated', 'thankful', 'unhappy']\n",
      "sad_words:  ['sad', 'saddening', 'Sad', 'saddened', 'heartbreaking', 'disheartening', 'Meny_Friedman', 'parishioner_Pat_Patello', 'saddens_me', 'distressing', 'reminders_bobbing', 'Turkoman_Shiites', 'saddest', 'unfortunate', 'sorry', 'bittersweet']\n",
      "fear_words:  ['fear', 'fearful', 'fears', 'Fear', 'fearing', 'worry', 'dread', 'feared', 'anxiety', 'apprehension', 'afraid', 'worries', 'concern', 'distrust', 'worried', 'Fearful']\n",
      "\n",
      "target words: \n",
      "['angry', 'irate', 'enraged', 'indignant', 'incensed', 'annoyed', 'agitated', 'frustrated', 'furious', 'unhappy', 'outraged', 'livid', 'irritated', 'exasperated', 'angrier', 'Angry', 'happy', 'glad', 'pleased', 'ecstatic', 'overjoyed', 'thrilled', 'satisfied', 'proud', 'delighted', 'disappointed', 'excited', 'happier', 'Said_Hirschbeck', 'elated', 'thankful', 'unhappy', 'sad', 'saddening', 'Sad', 'saddened', 'heartbreaking', 'disheartening', 'Meny_Friedman', 'parishioner_Pat_Patello', 'saddens_me', 'distressing', 'reminders_bobbing', 'Turkoman_Shiites', 'saddest', 'unfortunate', 'sorry', 'bittersweet', 'fear', 'fearful', 'fears', 'Fear', 'fearing', 'worry', 'dread', 'feared', 'anxiety', 'apprehension', 'afraid', 'worries', 'concern', 'distrust', 'worried', 'Fearful']\n",
      "\n",
      "color list:\n",
      "['b', 'b', 'b', 'b', 'b', 'b', 'b', 'b', 'b', 'b', 'b', 'b', 'b', 'b', 'b', 'b', 'g', 'g', 'g', 'g', 'g', 'g', 'g', 'g', 'g', 'g', 'g', 'g', 'g', 'g', 'g', 'g', 'r', 'r', 'r', 'r', 'r', 'r', 'r', 'r', 'r', 'r', 'r', 'r', 'r', 'r', 'r', 'r', 'y', 'y', 'y', 'y', 'y', 'y', 'y', 'y', 'y', 'y', 'y', 'y', 'y', 'y', 'y', 'y']\n"
     ]
    }
   ],
   "source": [
    "%matplotlib inline\n",
    "import matplotlib.pyplot as plt\n",
    "from sklearn.manifold import TSNE\n",
    "\n",
    "# Answer here\n",
    "topn = 15\n",
    "angry_words = ['angry'] + [word_ for word_, sim_ in w2v_google_model.most_similar('angry', topn=topn)]\n",
    "happy_words = ['happy'] + [word_ for word_, sim_ in w2v_google_model.most_similar('happy', topn=topn)]        \n",
    "sad_words = ['sad'] + [word_ for word_, sim_ in w2v_google_model.most_similar('sad', topn=topn)]        \n",
    "fear_words = ['fear'] + [word_ for word_, sim_ in w2v_google_model.most_similar('fear', topn=topn)]        \n",
    "\n",
    "print('angry_words: ', angry_words)\n",
    "print('happy_words: ', happy_words)\n",
    "print('sad_words: ', sad_words)\n",
    "print('fear_words: ', fear_words)\n",
    "\n",
    "\n",
    "target_words = angry_words + happy_words + sad_words + fear_words\n",
    "print('\\ntarget words: ')\n",
    "print(target_words)\n",
    "\n",
    "print('\\ncolor list:')\n",
    "cn = topn + 1\n",
    "color = ['b'] * cn + ['g'] * cn + ['r'] * cn + ['y'] * cn\n",
    "print(color)"
   ]
  },
  {
   "cell_type": "code",
   "execution_count": 47,
   "metadata": {},
   "outputs": [
    {
     "data": {
      "image/png": "[encoded data removed]",
      "text/plain": [
       "<Figure size 862.5x862.5 with 1 Axes>"
      ]
     },
     "metadata": {},
     "output_type": "display_data"
    }
   ],
   "source": [
    "model = w2v_google_model\n",
    "\n",
    "## prepare training word vectors\n",
    "size = 200\n",
    "target_size = len(target_words)\n",
    "all_word = list(model.index_to_key)\n",
    "word_train = target_words + all_word[:size]\n",
    "X_train = model[word_train]\n",
    "\n",
    "## t-SNE model\n",
    "tsne = TSNE(n_components=2, metric='cosine', random_state=28)\n",
    "\n",
    "## training\n",
    "X_tsne = tsne.fit_transform(X_train)\n",
    "\n",
    "## plot the result\n",
    "plt.figure(figsize=(7.5, 7.5), dpi=115)\n",
    "plt.scatter(X_tsne[:target_size, 0], X_tsne[:target_size, 1], c=color)\n",
    "for label, x, y in zip(target_words, X_tsne[:target_size, 0], X_tsne[:target_size, 1]):\n",
    "    plt.annotate(label, xy=(x,y), xytext=(0,0),  textcoords='offset points')\n",
    "plt.show()"
   ]
  },
  {
   "cell_type": "markdown",
   "metadata": {},
   "source": [
    "=============================================================================================================\n",
    "# 3. Kaggle Report"
   ]
  },
  {
   "cell_type": "markdown",
   "metadata": {},
   "source": [
    "### 1. First, read csv and json files and preprocessing:"
   ]
  },
  {
   "cell_type": "code",
   "execution_count": 2,
   "metadata": {},
   "outputs": [],
   "source": [
    "import pandas as pd\n",
    "import json\n",
    "from pathlib import Path\n",
    "from datetime import datetime\n",
    "from tqdm.auto import tqdm\n",
    "import matplotlib.pyplot as plt"
   ]
  },
  {
   "cell_type": "code",
   "execution_count": 3,
   "metadata": {},
   "outputs": [
    {
     "name": "stdout",
     "output_type": "stream",
     "text": [
      "1867535 1455563\n"
     ]
    }
   ],
   "source": [
    "iden_df = pd.read_csv(\"../data/kaggle/data_identification.csv\",\n",
    "                         header=0)\n",
    "emotion_df = pd.read_csv(\"../data/kaggle/emotion.csv\",\n",
    "                         header=0)\n",
    "print(len(iden_df), len(emotion_df))"
   ]
  },
  {
   "cell_type": "code",
   "execution_count": 4,
   "metadata": {},
   "outputs": [
    {
     "data": {
      "text/plain": [
       "1867535"
      ]
     },
     "execution_count": 4,
     "metadata": {},
     "output_type": "execute_result"
    }
   ],
   "source": [
    "# Load the tweets json raw data file\n",
    "with open(\"../data/kaggle/tweets_DM.json\", \"r\") as file:\n",
    "    tweets_data = [json.loads(line) for line in file]\n",
    "\n",
    "len(tweets_data)"
   ]
  },
  {
   "cell_type": "code",
   "execution_count": 5,
   "metadata": {},
   "outputs": [
    {
     "data": {
      "text/html": [
       "<div>\n",
       "<style scoped>\n",
       "    .dataframe tbody tr th:only-of-type {\n",
       "        vertical-align: middle;\n",
       "    }\n",
       "\n",
       "    .dataframe tbody tr th {\n",
       "        vertical-align: top;\n",
       "    }\n",
       "\n",
       "    .dataframe thead th {\n",
       "        text-align: right;\n",
       "    }\n",
       "</style>\n",
       "<table border=\"1\" class=\"dataframe\">\n",
       "  <thead>\n",
       "    <tr style=\"text-align: right;\">\n",
       "      <th></th>\n",
       "      <th>tweet_id</th>\n",
       "      <th>hashtags</th>\n",
       "      <th>text</th>\n",
       "    </tr>\n",
       "  </thead>\n",
       "  <tbody>\n",
       "    <tr>\n",
       "      <th>0</th>\n",
       "      <td>0x376b20</td>\n",
       "      <td>[Snapchat]</td>\n",
       "      <td>People who post \"add me on #Snapchat\" must be ...</td>\n",
       "    </tr>\n",
       "    <tr>\n",
       "      <th>1</th>\n",
       "      <td>0x2d5350</td>\n",
       "      <td>[freepress, TrumpLegacy, CNN]</td>\n",
       "      <td>@brianklaas As we see, Trump is dangerous to #...</td>\n",
       "    </tr>\n",
       "    <tr>\n",
       "      <th>2</th>\n",
       "      <td>0x28b412</td>\n",
       "      <td>[bibleverse]</td>\n",
       "      <td>Confident of your obedience, I write to you, k...</td>\n",
       "    </tr>\n",
       "    <tr>\n",
       "      <th>3</th>\n",
       "      <td>0x1cd5b0</td>\n",
       "      <td>[]</td>\n",
       "      <td>Now ISSA is stalking Tasha 😂😂😂 &lt;LH&gt;</td>\n",
       "    </tr>\n",
       "    <tr>\n",
       "      <th>4</th>\n",
       "      <td>0x2de201</td>\n",
       "      <td>[]</td>\n",
       "      <td>\"Trust is not the same as faith. A friend is s...</td>\n",
       "    </tr>\n",
       "  </tbody>\n",
       "</table>\n",
       "</div>"
      ],
      "text/plain": [
       "   tweet_id                       hashtags  \\\n",
       "0  0x376b20                     [Snapchat]   \n",
       "1  0x2d5350  [freepress, TrumpLegacy, CNN]   \n",
       "2  0x28b412                   [bibleverse]   \n",
       "3  0x1cd5b0                             []   \n",
       "4  0x2de201                             []   \n",
       "\n",
       "                                                text  \n",
       "0  People who post \"add me on #Snapchat\" must be ...  \n",
       "1  @brianklaas As we see, Trump is dangerous to #...  \n",
       "2  Confident of your obedience, I write to you, k...  \n",
       "3                Now ISSA is stalking Tasha 😂😂😂 <LH>  \n",
       "4  \"Trust is not the same as faith. A friend is s...  "
      ]
     },
     "execution_count": 5,
     "metadata": {},
     "output_type": "execute_result"
    }
   ],
   "source": [
    "# convert json files into pandas dataframe, with tweet_id, hashtags, and text columns\n",
    "tweets_info = []\n",
    "for tweet in tweets_data:\n",
    "    tweet_id = tweet[\"_source\"][\"tweet\"][\"tweet_id\"]\n",
    "    hashtags = tweet[\"_source\"][\"tweet\"][\"hashtags\"]\n",
    "    text = tweet[\"_source\"][\"tweet\"][\"text\"]\n",
    "    tweets_info.append({\"tweet_id\": tweet_id, \"hashtags\": hashtags, \"text\": text})\n",
    "\n",
    "# Create a dataframe from the tweets information\n",
    "tweets_df = pd.DataFrame(tweets_info)\n",
    "tweets_df.head()\n"
   ]
  },
  {
   "cell_type": "code",
   "execution_count": 6,
   "metadata": {},
   "outputs": [
    {
     "name": "stdout",
     "output_type": "stream",
     "text": [
      "   tweet_id identification                                           hashtags  \\\n",
      "0  0x29e452          train                                                 []   \n",
      "1  0x2b3819          train                                  [spateradio, app]   \n",
      "2  0x2a2acc          train                                                 []   \n",
      "3  0x2a8830          train  [PUBG, GamersUnite, twitch, BeHealthy, StayPos...   \n",
      "4  0x20b21d          train                             [strength, bones, God]   \n",
      "\n",
      "                                                text       emotion  \n",
      "0  Huge Respect🖒 @JohnnyVegasReal talking about l...           joy  \n",
      "1  Yoooo we hit all our monthly goals with the ne...           joy  \n",
      "2  @KIDSNTS @PICU_BCH @uhbcomms @BWCHBoss Well do...         trust  \n",
      "3  Come join @ambushman27 on #PUBG while he striv...           joy  \n",
      "4  @fanshixieen2014 Blessings!My #strength little...  anticipation  \n",
      "1455563\n",
      "    tweet_id identification          hashtags  \\\n",
      "0   0x28cc61           test                []   \n",
      "3   0x2db41f           test                []   \n",
      "15  0x2466f6           test    [womendrivers]   \n",
      "23  0x23f9e9           test  [robbingmembers]   \n",
      "31  0x1fb4e1           test                []   \n",
      "\n",
      "                                                 text  \n",
      "0   @Habbo I've seen two separate colours of the e...  \n",
      "3   @FoxNews @KellyannePolls No serious self respe...  \n",
      "15  Looking for a new car, and it says 1 lady owne...  \n",
      "23  @cineworld “only the brave” just out and fount...  \n",
      "31  Felt like total dog 💩 going into open gym and ...  \n",
      "411972\n"
     ]
    }
   ],
   "source": [
    "# Split into train and test dataframes based on identification file\n",
    "merged_df = pd.merge(iden_df, tweets_df, on=\"tweet_id\")\n",
    "\n",
    "train_df = merged_df[merged_df[\"identification\"] == \"train\"]\n",
    "test_df = merged_df[merged_df[\"identification\"] == \"test\"]\n",
    "\n",
    "# concat train_df with its ground truth emotion\n",
    "train_df = pd.merge(train_df, emotion_df, on=\"tweet_id\")\n",
    "\n",
    "print(train_df.head())\n",
    "print(len(train_df))\n",
    "\n",
    "print(test_df.head())\n",
    "print(len(test_df))"
   ]
  },
  {
   "cell_type": "code",
   "execution_count": 7,
   "metadata": {},
   "outputs": [],
   "source": [
    "# utilize dmh functions from hw1\n",
    "import sys\n",
    "sys.path.append('../helpers')\n",
    "import data_mining_helpers as dmh"
   ]
  },
  {
   "cell_type": "markdown",
   "metadata": {},
   "source": [
    "##### Check if any missing datas:"
   ]
  },
  {
   "cell_type": "code",
   "execution_count": 8,
   "metadata": {},
   "outputs": [
    {
     "data": {
      "text/html": [
       "<div>\n",
       "<style scoped>\n",
       "    .dataframe tbody tr th:only-of-type {\n",
       "        vertical-align: middle;\n",
       "    }\n",
       "\n",
       "    .dataframe tbody tr th {\n",
       "        vertical-align: top;\n",
       "    }\n",
       "\n",
       "    .dataframe thead th {\n",
       "        text-align: right;\n",
       "    }\n",
       "</style>\n",
       "<table border=\"1\" class=\"dataframe\">\n",
       "  <thead>\n",
       "    <tr style=\"text-align: right;\">\n",
       "      <th></th>\n",
       "      <th>tweet_id</th>\n",
       "      <th>identification</th>\n",
       "      <th>hashtags</th>\n",
       "      <th>text</th>\n",
       "      <th>emotion</th>\n",
       "    </tr>\n",
       "  </thead>\n",
       "  <tbody>\n",
       "    <tr>\n",
       "      <th>0</th>\n",
       "      <td>The amoung of missing records is:</td>\n",
       "      <td>The amoung of missing records is:</td>\n",
       "      <td>The amoung of missing records is:</td>\n",
       "      <td>The amoung of missing records is:</td>\n",
       "      <td>The amoung of missing records is:</td>\n",
       "    </tr>\n",
       "    <tr>\n",
       "      <th>1</th>\n",
       "      <td>0</td>\n",
       "      <td>0</td>\n",
       "      <td>0</td>\n",
       "      <td>0</td>\n",
       "      <td>0</td>\n",
       "    </tr>\n",
       "  </tbody>\n",
       "</table>\n",
       "</div>"
      ],
      "text/plain": [
       "                             tweet_id                      identification  \\\n",
       "0  The amoung of missing records is:   The amoung of missing records is:    \n",
       "1                                   0                                   0   \n",
       "\n",
       "                             hashtags                                text  \\\n",
       "0  The amoung of missing records is:   The amoung of missing records is:    \n",
       "1                                   0                                   0   \n",
       "\n",
       "                              emotion  \n",
       "0  The amoung of missing records is:   \n",
       "1                                   0  "
      ]
     },
     "execution_count": 8,
     "metadata": {},
     "output_type": "execute_result"
    }
   ],
   "source": [
    "train_df.isnull().apply(lambda x: dmh.check_missing_values(x))"
   ]
  },
  {
   "cell_type": "code",
   "execution_count": 9,
   "metadata": {},
   "outputs": [
    {
     "data": {
      "text/html": [
       "<div>\n",
       "<style scoped>\n",
       "    .dataframe tbody tr th:only-of-type {\n",
       "        vertical-align: middle;\n",
       "    }\n",
       "\n",
       "    .dataframe tbody tr th {\n",
       "        vertical-align: top;\n",
       "    }\n",
       "\n",
       "    .dataframe thead th {\n",
       "        text-align: right;\n",
       "    }\n",
       "</style>\n",
       "<table border=\"1\" class=\"dataframe\">\n",
       "  <thead>\n",
       "    <tr style=\"text-align: right;\">\n",
       "      <th></th>\n",
       "      <th>tweet_id</th>\n",
       "      <th>identification</th>\n",
       "      <th>hashtags</th>\n",
       "      <th>text</th>\n",
       "    </tr>\n",
       "  </thead>\n",
       "  <tbody>\n",
       "    <tr>\n",
       "      <th>0</th>\n",
       "      <td>The amoung of missing records is:</td>\n",
       "      <td>The amoung of missing records is:</td>\n",
       "      <td>The amoung of missing records is:</td>\n",
       "      <td>The amoung of missing records is:</td>\n",
       "    </tr>\n",
       "    <tr>\n",
       "      <th>1</th>\n",
       "      <td>0</td>\n",
       "      <td>0</td>\n",
       "      <td>0</td>\n",
       "      <td>0</td>\n",
       "    </tr>\n",
       "  </tbody>\n",
       "</table>\n",
       "</div>"
      ],
      "text/plain": [
       "                             tweet_id                      identification  \\\n",
       "0  The amoung of missing records is:   The amoung of missing records is:    \n",
       "1                                   0                                   0   \n",
       "\n",
       "                             hashtags                                text  \n",
       "0  The amoung of missing records is:   The amoung of missing records is:   \n",
       "1                                   0                                   0  "
      ]
     },
     "execution_count": 9,
     "metadata": {},
     "output_type": "execute_result"
    }
   ],
   "source": [
    "test_df.isnull().apply(lambda x: dmh.check_missing_values(x))"
   ]
  },
  {
   "cell_type": "markdown",
   "metadata": {},
   "source": [
    "### 2. Tokenize text using Roberta-tokenizer:"
   ]
  },
  {
   "cell_type": "code",
   "execution_count": 25,
   "metadata": {},
   "outputs": [],
   "source": [
    "import torch\n",
    "from transformers import RobertaTokenizer, RobertaTokenizerFast, RobertaForSequenceClassification\n",
    "from sklearn.model_selection import train_test_split\n",
    "from sklearn.preprocessing import LabelEncoder\n",
    "from torch.utils.data import DataLoader, TensorDataset\n",
    "import pickle"
   ]
  },
  {
   "cell_type": "code",
   "execution_count": 11,
   "metadata": {},
   "outputs": [],
   "source": [
    "target_list = ['anger', 'anticipation', 'disgust', 'fear', 'sadness', 'surprise', 'trust', 'joy']"
   ]
  },
  {
   "cell_type": "markdown",
   "metadata": {},
   "source": [
    "##### We use pretrained Roberta-large for best performance and tokenize the tweets first:\n",
    "##### This step can take quite a while and take up some memory, we can save the encoded datas into pkl files:"
   ]
  },
  {
   "cell_type": "code",
   "execution_count": 12,
   "metadata": {},
   "outputs": [],
   "source": [
    "tokenizer = RobertaTokenizerFast.from_pretrained('roberta-large')\n",
    "# we can use roberta-base and reduce max length to reduce the memory usage:\n",
    "encoded_data = tokenizer(list(train_df['text']), truncation=True, padding=True, return_tensors='pt', max_length=256)"
   ]
  },
  {
   "cell_type": "markdown",
   "metadata": {},
   "source": [
    "##### Let's see what the tokenized datas look llike:"
   ]
  },
  {
   "cell_type": "code",
   "execution_count": 13,
   "metadata": {},
   "outputs": [
    {
     "name": "stdout",
     "output_type": "stream",
     "text": [
      "Original Sentence: Huge Respect🖒 @JohnnyVegasReal talking about losing his dad to cancer.\"if you dont remember the good times it was all for nothing\"#beautiful\n",
      "Tokenized Sentence: Huge Respect🖒 @JohnnyVegasReal talking about losing his dad to cancer.\"if you dont remember the good times it was all for nothing\"#beautiful\n",
      "['<s>', 'H', 'uge', 'ĠRespect', 'ðŁ', 'ĸ', 'Ĵ', 'Ġ@', 'Johnny', 'V', 'eg', 'as', 'Real', 'Ġtalking', 'Ġabout', 'Ġlosing', 'Ġhis', 'Ġdad', 'Ġto', 'Ġcancer', '.\"', 'if', 'Ġyou', 'Ġdont', 'Ġremember', 'Ġthe', 'Ġgood', 'Ġtimes', 'Ġit', 'Ġwas', 'Ġall', 'Ġfor', 'Ġnothing', '\"', '#', 'beaut', 'iful', '</s>', '<pad>', '<pad>', '<pad>', '<pad>', '<pad>', '<pad>', '<pad>', '<pad>', '<pad>', '<pad>', '<pad>', '<pad>', '<pad>', '<pad>', '<pad>', '<pad>', '<pad>', '<pad>', '<pad>', '<pad>', '<pad>', '<pad>', '<pad>', '<pad>', '<pad>', '<pad>', '<pad>', '<pad>', '<pad>', '<pad>', '<pad>', '<pad>', '<pad>', '<pad>', '<pad>', '<pad>', '<pad>', '<pad>', '<pad>', '<pad>', '<pad>', '<pad>', '<pad>', '<pad>', '<pad>', '<pad>', '<pad>', '<pad>', '<pad>', '<pad>', '<pad>', '<pad>', '<pad>', '<pad>', '<pad>', '<pad>', '<pad>', '<pad>', '<pad>', '<pad>', '<pad>', '<pad>', '<pad>', '<pad>', '<pad>', '<pad>', '<pad>', '<pad>', '<pad>', '<pad>', '<pad>', '<pad>', '<pad>', '<pad>', '<pad>', '<pad>', '<pad>', '<pad>', '<pad>', '<pad>', '<pad>', '<pad>', '<pad>', '<pad>', '<pad>', '<pad>', '<pad>', '<pad>', '<pad>', '<pad>', '<pad>', '<pad>', '<pad>', '<pad>', '<pad>', '<pad>', '<pad>', '<pad>', '<pad>', '<pad>', '<pad>', '<pad>', '<pad>', '<pad>', '<pad>', '<pad>', '<pad>', '<pad>', '<pad>', '<pad>', '<pad>', '<pad>', '<pad>', '<pad>', '<pad>', '<pad>', '<pad>', '<pad>', '<pad>', '<pad>', '<pad>', '<pad>', '<pad>', '<pad>', '<pad>', '<pad>', '<pad>', '<pad>', '<pad>', '<pad>', '<pad>', '<pad>', '<pad>', '<pad>', '<pad>', '<pad>', '<pad>', '<pad>', '<pad>', '<pad>', '<pad>', '<pad>', '<pad>', '<pad>', '<pad>', '<pad>', '<pad>', '<pad>', '<pad>', '<pad>', '<pad>', '<pad>', '<pad>', '<pad>', '<pad>', '<pad>', '<pad>', '<pad>', '<pad>', '<pad>', '<pad>', '<pad>', '<pad>', '<pad>', '<pad>', '<pad>', '<pad>', '<pad>', '<pad>', '<pad>', '<pad>', '<pad>', '<pad>', '<pad>', '<pad>', '<pad>', '<pad>', '<pad>', '<pad>', '<pad>', '<pad>', '<pad>', '<pad>', '<pad>', '<pad>', '<pad>', '<pad>', '<pad>', '<pad>', '<pad>', '<pad>', '<pad>', '<pad>', '<pad>', '<pad>', '<pad>', '<pad>', '<pad>', '<pad>', '<pad>', '<pad>', '<pad>', '<pad>', '<pad>', '<pad>', '<pad>', '<pad>', '<pad>', '<pad>', '<pad>', '<pad>', '<pad>', '<pad>', '<pad>', '<pad>', '<pad>', '<pad>', '<pad>']\n",
      "256\n",
      "Token: <s>\tToken ID: 0\n",
      "Token: H\tToken ID: 725\n",
      "Token: uge\tToken ID: 11797\n",
      "Token: ĠRespect\tToken ID: 33106\n",
      "Token: ðŁ\tToken ID: 6569\n",
      "Token: ĸ\tToken ID: 25448\n",
      "Token: Ĵ\tToken ID: 10659\n",
      "Token: Ġ@\tToken ID: 787\n",
      "Token: Johnny\tToken ID: 39249\n",
      "Token: V\tToken ID: 846\n",
      "Token: eg\tToken ID: 3733\n",
      "Token: as\tToken ID: 281\n",
      "Token: Real\tToken ID: 17105\n",
      "Token: Ġtalking\tToken ID: 1686\n",
      "Token: Ġabout\tToken ID: 59\n",
      "Token: Ġlosing\tToken ID: 2086\n",
      "Token: Ġhis\tToken ID: 39\n",
      "Token: Ġdad\tToken ID: 4252\n",
      "Token: Ġto\tToken ID: 7\n",
      "Token: Ġcancer\tToken ID: 1668\n",
      "Token: .\"\tToken ID: 72\n",
      "Token: if\tToken ID: 1594\n",
      "Token: Ġyou\tToken ID: 47\n",
      "Token: Ġdont\tToken ID: 33976\n",
      "Token: Ġremember\tToken ID: 2145\n",
      "Token: Ġthe\tToken ID: 5\n",
      "Token: Ġgood\tToken ID: 205\n",
      "Token: Ġtimes\tToken ID: 498\n",
      "Token: Ġit\tToken ID: 24\n",
      "Token: Ġwas\tToken ID: 21\n",
      "Token: Ġall\tToken ID: 70\n",
      "Token: Ġfor\tToken ID: 13\n",
      "Token: Ġnothing\tToken ID: 1085\n",
      "Token: \"\tToken ID: 113\n",
      "Token: #\tToken ID: 10431\n",
      "Token: beaut\tToken ID: 28878\n",
      "Token: iful\tToken ID: 16170\n",
      "Token: </s>\tToken ID: 2\n",
      "Token: <pad>\tToken ID: 1\n",
      "Token: <pad>\tToken ID: 1\n",
      "Token: <pad>\tToken ID: 1\n",
      "Token: <pad>\tToken ID: 1\n",
      "Token: <pad>\tToken ID: 1\n",
      "Token: <pad>\tToken ID: 1\n",
      "Token: <pad>\tToken ID: 1\n",
      "Token: <pad>\tToken ID: 1\n",
      "Token: <pad>\tToken ID: 1\n",
      "Token: <pad>\tToken ID: 1\n",
      "Token: <pad>\tToken ID: 1\n",
      "Token: <pad>\tToken ID: 1\n",
      "Token: <pad>\tToken ID: 1\n",
      "Token: <pad>\tToken ID: 1\n",
      "Token: <pad>\tToken ID: 1\n",
      "Token: <pad>\tToken ID: 1\n",
      "Token: <pad>\tToken ID: 1\n",
      "Token: <pad>\tToken ID: 1\n",
      "Token: <pad>\tToken ID: 1\n",
      "Token: <pad>\tToken ID: 1\n",
      "Token: <pad>\tToken ID: 1\n",
      "Token: <pad>\tToken ID: 1\n",
      "Token: <pad>\tToken ID: 1\n",
      "Token: <pad>\tToken ID: 1\n",
      "Token: <pad>\tToken ID: 1\n",
      "Token: <pad>\tToken ID: 1\n",
      "Token: <pad>\tToken ID: 1\n",
      "Token: <pad>\tToken ID: 1\n",
      "Token: <pad>\tToken ID: 1\n",
      "Token: <pad>\tToken ID: 1\n",
      "Token: <pad>\tToken ID: 1\n",
      "Token: <pad>\tToken ID: 1\n",
      "Token: <pad>\tToken ID: 1\n",
      "Token: <pad>\tToken ID: 1\n",
      "Token: <pad>\tToken ID: 1\n",
      "Token: <pad>\tToken ID: 1\n",
      "Token: <pad>\tToken ID: 1\n",
      "Token: <pad>\tToken ID: 1\n",
      "Token: <pad>\tToken ID: 1\n",
      "Token: <pad>\tToken ID: 1\n",
      "Token: <pad>\tToken ID: 1\n",
      "Token: <pad>\tToken ID: 1\n",
      "Token: <pad>\tToken ID: 1\n",
      "Token: <pad>\tToken ID: 1\n",
      "Token: <pad>\tToken ID: 1\n",
      "Token: <pad>\tToken ID: 1\n",
      "Token: <pad>\tToken ID: 1\n",
      "Token: <pad>\tToken ID: 1\n",
      "Token: <pad>\tToken ID: 1\n",
      "Token: <pad>\tToken ID: 1\n",
      "Token: <pad>\tToken ID: 1\n",
      "Token: <pad>\tToken ID: 1\n",
      "Token: <pad>\tToken ID: 1\n",
      "Token: <pad>\tToken ID: 1\n",
      "Token: <pad>\tToken ID: 1\n",
      "Token: <pad>\tToken ID: 1\n",
      "Token: <pad>\tToken ID: 1\n",
      "Token: <pad>\tToken ID: 1\n",
      "Token: <pad>\tToken ID: 1\n",
      "Token: <pad>\tToken ID: 1\n",
      "Token: <pad>\tToken ID: 1\n",
      "Token: <pad>\tToken ID: 1\n",
      "Token: <pad>\tToken ID: 1\n",
      "Token: <pad>\tToken ID: 1\n",
      "Token: <pad>\tToken ID: 1\n",
      "Token: <pad>\tToken ID: 1\n",
      "Token: <pad>\tToken ID: 1\n",
      "Token: <pad>\tToken ID: 1\n",
      "Token: <pad>\tToken ID: 1\n",
      "Token: <pad>\tToken ID: 1\n",
      "Token: <pad>\tToken ID: 1\n",
      "Token: <pad>\tToken ID: 1\n",
      "Token: <pad>\tToken ID: 1\n",
      "Token: <pad>\tToken ID: 1\n",
      "Token: <pad>\tToken ID: 1\n",
      "Token: <pad>\tToken ID: 1\n",
      "Token: <pad>\tToken ID: 1\n",
      "Token: <pad>\tToken ID: 1\n",
      "Token: <pad>\tToken ID: 1\n",
      "Token: <pad>\tToken ID: 1\n",
      "Token: <pad>\tToken ID: 1\n",
      "Token: <pad>\tToken ID: 1\n",
      "Token: <pad>\tToken ID: 1\n",
      "Token: <pad>\tToken ID: 1\n",
      "Token: <pad>\tToken ID: 1\n",
      "Token: <pad>\tToken ID: 1\n",
      "Token: <pad>\tToken ID: 1\n",
      "Token: <pad>\tToken ID: 1\n",
      "Token: <pad>\tToken ID: 1\n",
      "Token: <pad>\tToken ID: 1\n",
      "Token: <pad>\tToken ID: 1\n",
      "Token: <pad>\tToken ID: 1\n",
      "Token: <pad>\tToken ID: 1\n",
      "Token: <pad>\tToken ID: 1\n",
      "Token: <pad>\tToken ID: 1\n",
      "Token: <pad>\tToken ID: 1\n",
      "Token: <pad>\tToken ID: 1\n",
      "Token: <pad>\tToken ID: 1\n",
      "Token: <pad>\tToken ID: 1\n",
      "Token: <pad>\tToken ID: 1\n",
      "Token: <pad>\tToken ID: 1\n",
      "Token: <pad>\tToken ID: 1\n",
      "Token: <pad>\tToken ID: 1\n",
      "Token: <pad>\tToken ID: 1\n",
      "Token: <pad>\tToken ID: 1\n",
      "Token: <pad>\tToken ID: 1\n",
      "Token: <pad>\tToken ID: 1\n",
      "Token: <pad>\tToken ID: 1\n",
      "Token: <pad>\tToken ID: 1\n",
      "Token: <pad>\tToken ID: 1\n",
      "Token: <pad>\tToken ID: 1\n",
      "Token: <pad>\tToken ID: 1\n",
      "Token: <pad>\tToken ID: 1\n",
      "Token: <pad>\tToken ID: 1\n",
      "Token: <pad>\tToken ID: 1\n",
      "Token: <pad>\tToken ID: 1\n",
      "Token: <pad>\tToken ID: 1\n",
      "Token: <pad>\tToken ID: 1\n",
      "Token: <pad>\tToken ID: 1\n",
      "Token: <pad>\tToken ID: 1\n",
      "Token: <pad>\tToken ID: 1\n",
      "Token: <pad>\tToken ID: 1\n",
      "Token: <pad>\tToken ID: 1\n",
      "Token: <pad>\tToken ID: 1\n",
      "Token: <pad>\tToken ID: 1\n",
      "Token: <pad>\tToken ID: 1\n",
      "Token: <pad>\tToken ID: 1\n",
      "Token: <pad>\tToken ID: 1\n",
      "Token: <pad>\tToken ID: 1\n",
      "Token: <pad>\tToken ID: 1\n",
      "Token: <pad>\tToken ID: 1\n",
      "Token: <pad>\tToken ID: 1\n",
      "Token: <pad>\tToken ID: 1\n",
      "Token: <pad>\tToken ID: 1\n",
      "Token: <pad>\tToken ID: 1\n",
      "Token: <pad>\tToken ID: 1\n",
      "Token: <pad>\tToken ID: 1\n",
      "Token: <pad>\tToken ID: 1\n",
      "Token: <pad>\tToken ID: 1\n",
      "Token: <pad>\tToken ID: 1\n",
      "Token: <pad>\tToken ID: 1\n",
      "Token: <pad>\tToken ID: 1\n",
      "Token: <pad>\tToken ID: 1\n",
      "Token: <pad>\tToken ID: 1\n",
      "Token: <pad>\tToken ID: 1\n",
      "Token: <pad>\tToken ID: 1\n",
      "Token: <pad>\tToken ID: 1\n",
      "Token: <pad>\tToken ID: 1\n",
      "Token: <pad>\tToken ID: 1\n",
      "Token: <pad>\tToken ID: 1\n",
      "Token: <pad>\tToken ID: 1\n",
      "Token: <pad>\tToken ID: 1\n",
      "Token: <pad>\tToken ID: 1\n",
      "Token: <pad>\tToken ID: 1\n",
      "Token: <pad>\tToken ID: 1\n",
      "Token: <pad>\tToken ID: 1\n",
      "Token: <pad>\tToken ID: 1\n",
      "Token: <pad>\tToken ID: 1\n",
      "Token: <pad>\tToken ID: 1\n",
      "Token: <pad>\tToken ID: 1\n",
      "Token: <pad>\tToken ID: 1\n",
      "Token: <pad>\tToken ID: 1\n",
      "Token: <pad>\tToken ID: 1\n",
      "Token: <pad>\tToken ID: 1\n",
      "Token: <pad>\tToken ID: 1\n",
      "Token: <pad>\tToken ID: 1\n",
      "Token: <pad>\tToken ID: 1\n",
      "Token: <pad>\tToken ID: 1\n",
      "Token: <pad>\tToken ID: 1\n",
      "Token: <pad>\tToken ID: 1\n",
      "Token: <pad>\tToken ID: 1\n",
      "Token: <pad>\tToken ID: 1\n",
      "Token: <pad>\tToken ID: 1\n",
      "Token: <pad>\tToken ID: 1\n",
      "Token: <pad>\tToken ID: 1\n",
      "Token: <pad>\tToken ID: 1\n",
      "Token: <pad>\tToken ID: 1\n",
      "Token: <pad>\tToken ID: 1\n",
      "Token: <pad>\tToken ID: 1\n",
      "Token: <pad>\tToken ID: 1\n",
      "Token: <pad>\tToken ID: 1\n",
      "Token: <pad>\tToken ID: 1\n",
      "Token: <pad>\tToken ID: 1\n",
      "Token: <pad>\tToken ID: 1\n",
      "Token: <pad>\tToken ID: 1\n",
      "Token: <pad>\tToken ID: 1\n",
      "Token: <pad>\tToken ID: 1\n",
      "Token: <pad>\tToken ID: 1\n",
      "Token: <pad>\tToken ID: 1\n",
      "Token: <pad>\tToken ID: 1\n",
      "Token: <pad>\tToken ID: 1\n",
      "Token: <pad>\tToken ID: 1\n",
      "Token: <pad>\tToken ID: 1\n",
      "Token: <pad>\tToken ID: 1\n",
      "Token: <pad>\tToken ID: 1\n",
      "Token: <pad>\tToken ID: 1\n",
      "Token: <pad>\tToken ID: 1\n",
      "Token: <pad>\tToken ID: 1\n",
      "Token: <pad>\tToken ID: 1\n",
      "Token: <pad>\tToken ID: 1\n",
      "Token: <pad>\tToken ID: 1\n",
      "Token: <pad>\tToken ID: 1\n",
      "Token: <pad>\tToken ID: 1\n",
      "Token: <pad>\tToken ID: 1\n",
      "Token: <pad>\tToken ID: 1\n",
      "Token: <pad>\tToken ID: 1\n",
      "Token: <pad>\tToken ID: 1\n",
      "Token: <pad>\tToken ID: 1\n",
      "Token: <pad>\tToken ID: 1\n",
      "Token: <pad>\tToken ID: 1\n",
      "Token: <pad>\tToken ID: 1\n",
      "Token: <pad>\tToken ID: 1\n",
      "Token: <pad>\tToken ID: 1\n",
      "Token: <pad>\tToken ID: 1\n",
      "Token: <pad>\tToken ID: 1\n",
      "Token: <pad>\tToken ID: 1\n",
      "Token: <pad>\tToken ID: 1\n",
      "Token: <pad>\tToken ID: 1\n"
     ]
    }
   ],
   "source": [
    "input_ids = encoded_data['input_ids'][0]\n",
    "\n",
    "# Decode the token IDs to obtain the original sentence\n",
    "decoded_sentence = tokenizer.decode(input_ids, skip_special_tokens=True)\n",
    "\n",
    "# Print the results\n",
    "print(\"Original Sentence:\", train_df['text'].iloc[0])\n",
    "print(\"Tokenized Sentence:\", decoded_sentence)\n",
    "\n",
    "decoded_tokens = tokenizer.convert_ids_to_tokens(input_ids)\n",
    "print(decoded_tokens)\n",
    "print(len(decoded_tokens))\n",
    "# Print each token along with its token ID\n",
    "for token, token_id in zip(decoded_tokens, input_ids):\n",
    "    print(f\"Token: {token}\\tToken ID: {token_id}\")"
   ]
  },
  {
   "cell_type": "markdown",
   "metadata": {},
   "source": [
    "##### Roberta uses BPE tokenizer, each unique token is mapped to Roberta predefined token ID, we have total of 1455563 sentences, each has its sentence tokenized and token ids, forming a 1455563x256 sized tensor"
   ]
  },
  {
   "cell_type": "code",
   "execution_count": 14,
   "metadata": {},
   "outputs": [
    {
     "name": "stdout",
     "output_type": "stream",
     "text": [
      "torch.Size([1455563, 256])\n"
     ]
    }
   ],
   "source": [
    "print(encoded_data['input_ids'].size())"
   ]
  },
  {
   "cell_type": "markdown",
   "metadata": {},
   "source": [
    "##### Attention mask indicates where the token is inside the 256 tokens."
   ]
  },
  {
   "cell_type": "code",
   "execution_count": 15,
   "metadata": {},
   "outputs": [
    {
     "name": "stdout",
     "output_type": "stream",
     "text": [
      "tensor([[    0,   725, 11797,  ...,     1,     1,     1],\n",
      "        [    0,   975, 40386,  ...,     1,     1,     1],\n",
      "        [    0,  1039,   530,  ...,     1,     1,     1],\n",
      "        ...,\n",
      "        [    0,  1039, 33049,  ...,     1,     1,     1],\n",
      "        [    0,   100,    64,  ...,     1,     1,     1],\n",
      "        [    0, 10431, 11621,  ...,     1,     1,     1]])\n",
      "tensor([[1, 1, 1,  ..., 0, 0, 0],\n",
      "        [1, 1, 1,  ..., 0, 0, 0],\n",
      "        [1, 1, 1,  ..., 0, 0, 0],\n",
      "        ...,\n",
      "        [1, 1, 1,  ..., 0, 0, 0],\n",
      "        [1, 1, 1,  ..., 0, 0, 0],\n",
      "        [1, 1, 1,  ..., 0, 0, 0]])\n"
     ]
    },
    {
     "data": {
      "text/plain": [
       "48804"
      ]
     },
     "execution_count": 15,
     "metadata": {},
     "output_type": "execute_result"
    }
   ],
   "source": [
    "print(encoded_data['input_ids'][:10])\n",
    "print(encoded_data['attention_mask'][:10])\n",
    "unique_elements = torch.unique(encoded_data['input_ids'])\n",
    "num_unique_elements = unique_elements.numel()\n",
    "num_unique_elements"
   ]
  },
  {
   "cell_type": "markdown",
   "metadata": {},
   "source": [
    "##### Roberta can encode and decode emojis properly so it should theoretically be effective in sentiment classification task:"
   ]
  },
  {
   "cell_type": "code",
   "execution_count": 16,
   "metadata": {},
   "outputs": [
    {
     "name": "stdout",
     "output_type": "stream",
     "text": [
      "WARNING:tensorflow:From c:\\Users\\nick0\\anaconda3\\envs\\DM\\lib\\site-packages\\keras\\src\\losses.py:2976: The name tf.losses.sparse_softmax_cross_entropy is deprecated. Please use tf.compat.v1.losses.sparse_softmax_cross_entropy instead.\n",
      "\n"
     ]
    },
    {
     "data": {
      "text/plain": [
       "'<s>😂</s>'"
      ]
     },
     "execution_count": 16,
     "metadata": {},
     "output_type": "execute_result"
    }
   ],
   "source": [
    "tokenizer.decode(tokenizer.encode(\"😂\"))"
   ]
  },
  {
   "cell_type": "code",
   "execution_count": 17,
   "metadata": {},
   "outputs": [
    {
     "data": {
      "text/plain": [
       "{'anger': 0,\n",
       " 'anticipation': 1,\n",
       " 'disgust': 2,\n",
       " 'fear': 3,\n",
       " 'sadness': 4,\n",
       " 'surprise': 5,\n",
       " 'trust': 6,\n",
       " 'joy': 7}"
      ]
     },
     "execution_count": 17,
     "metadata": {},
     "output_type": "execute_result"
    }
   ],
   "source": [
    "label_map = {label: i for i, label in enumerate(target_list)}\n",
    "label_map"
   ]
  },
  {
   "cell_type": "code",
   "execution_count": 18,
   "metadata": {},
   "outputs": [
    {
     "name": "stdout",
     "output_type": "stream",
     "text": [
      "tensor([7, 7, 6, 7, 1, 1, 1, 7, 4, 6])\n",
      "torch.Size([1455563])\n"
     ]
    }
   ],
   "source": [
    "# Map emotion labels to each tweet's tensor\n",
    "label_map = {label: i for i, label in enumerate(target_list)}\n",
    "encoded_data['labels'] = torch.tensor([label_map[label] for label in train_df['emotion']])\n",
    "print(encoded_data['labels'][:10])\n",
    "print(encoded_data['labels'].size())\n",
    "\n",
    "# # one-hot encoding\n",
    "# one_hot_labels = torch.zeros((len(encoded_data['input_ids']), len(target_list)))\n",
    "\n",
    "# # Iterate through the DataFrame and set the corresponding elements to 1\n",
    "# for i, label in enumerate(encoded_data['labels']):\n",
    "#     one_hot_labels[i, label] = 1\n",
    "# encoded_data['labels'] = one_hot_labels\n"
   ]
  },
  {
   "cell_type": "code",
   "execution_count": 19,
   "metadata": {},
   "outputs": [
    {
     "name": "stdout",
     "output_type": "stream",
     "text": [
      "Yoooo we hit all our monthly goals with the new app in two weeks. #spateradio #app <LH>\n",
      "joy\n"
     ]
    }
   ],
   "source": [
    "print(train_df['text'].iloc[1])\n",
    "print(train_df['emotion'].iloc[1])"
   ]
  },
  {
   "cell_type": "markdown",
   "metadata": {},
   "source": [
    "### 3. We finetune Roberta for our task:\n",
    "##### The reason we choose to finetune Roberta for sentiment classification is because Roberta is pretrained on Twitter datas and do consider emojis, and it has been shown to be effective in task like sentiment classification, we use RobertaForSequenceClassification and finetune it with our own tweets data and labels since we have different labels(8 sentiments) than default(positive, neutral and negative):"
   ]
  },
  {
   "cell_type": "markdown",
   "metadata": {},
   "source": [
    "##### We use single_label_classification since each tweet only has one target emotion in our case, and it uses cross-entropy as loss, multi_label_classification can be used if we want to predict multiple sentiments for sentences:"
   ]
  },
  {
   "cell_type": "code",
   "execution_count": 20,
   "metadata": {},
   "outputs": [
    {
     "name": "stderr",
     "output_type": "stream",
     "text": [
      "Some weights of RobertaForSequenceClassification were not initialized from the model checkpoint at roberta-large and are newly initialized: ['classifier.out_proj.bias', 'classifier.dense.weight', 'classifier.dense.bias', 'classifier.out_proj.weight']\n",
      "You should probably TRAIN this model on a down-stream task to be able to use it for predictions and inference.\n"
     ]
    }
   ],
   "source": [
    "model = RobertaForSequenceClassification.from_pretrained('roberta-large', num_labels=len(label_map), problem_type = 'single_label_classification')"
   ]
  },
  {
   "cell_type": "markdown",
   "metadata": {},
   "source": [
    "##### We can see our model structure, its output is a 8 number logits tensor:"
   ]
  },
  {
   "cell_type": "code",
   "execution_count": 21,
   "metadata": {},
   "outputs": [
    {
     "name": "stdout",
     "output_type": "stream",
     "text": [
      "RobertaForSequenceClassification(\n",
      "  (roberta): RobertaModel(\n",
      "    (embeddings): RobertaEmbeddings(\n",
      "      (word_embeddings): Embedding(50265, 1024, padding_idx=1)\n",
      "      (position_embeddings): Embedding(514, 1024, padding_idx=1)\n",
      "      (token_type_embeddings): Embedding(1, 1024)\n",
      "      (LayerNorm): LayerNorm((1024,), eps=1e-05, elementwise_affine=True)\n",
      "      (dropout): Dropout(p=0.1, inplace=False)\n",
      "    )\n",
      "    (encoder): RobertaEncoder(\n",
      "      (layer): ModuleList(\n",
      "        (0-23): 24 x RobertaLayer(\n",
      "          (attention): RobertaAttention(\n",
      "            (self): RobertaSelfAttention(\n",
      "              (query): Linear(in_features=1024, out_features=1024, bias=True)\n",
      "              (key): Linear(in_features=1024, out_features=1024, bias=True)\n",
      "              (value): Linear(in_features=1024, out_features=1024, bias=True)\n",
      "              (dropout): Dropout(p=0.1, inplace=False)\n",
      "            )\n",
      "            (output): RobertaSelfOutput(\n",
      "              (dense): Linear(in_features=1024, out_features=1024, bias=True)\n",
      "              (LayerNorm): LayerNorm((1024,), eps=1e-05, elementwise_affine=True)\n",
      "              (dropout): Dropout(p=0.1, inplace=False)\n",
      "            )\n",
      "          )\n",
      "          (intermediate): RobertaIntermediate(\n",
      "            (dense): Linear(in_features=1024, out_features=4096, bias=True)\n",
      "            (intermediate_act_fn): GELUActivation()\n",
      "          )\n",
      "          (output): RobertaOutput(\n",
      "            (dense): Linear(in_features=4096, out_features=1024, bias=True)\n",
      "            (LayerNorm): LayerNorm((1024,), eps=1e-05, elementwise_affine=True)\n",
      "            (dropout): Dropout(p=0.1, inplace=False)\n",
      "          )\n",
      "        )\n",
      "      )\n",
      "    )\n",
      "  )\n",
      "  (classifier): RobertaClassificationHead(\n",
      "    (dense): Linear(in_features=1024, out_features=1024, bias=True)\n",
      "    (dropout): Dropout(p=0.1, inplace=False)\n",
      "    (out_proj): Linear(in_features=1024, out_features=8, bias=True)\n",
      "  )\n",
      ")\n"
     ]
    }
   ],
   "source": [
    "print(model)"
   ]
  },
  {
   "cell_type": "code",
   "execution_count": 22,
   "metadata": {},
   "outputs": [
    {
     "data": {
      "text/plain": [
       "'cuda'"
      ]
     },
     "execution_count": 22,
     "metadata": {},
     "output_type": "execute_result"
    }
   ],
   "source": [
    "import os\n",
    "os.environ['CUDA_LAUNCH_BLOCKING'] = '1'\n",
    "\"cuda\" if torch.cuda.is_available() else \"cpu\""
   ]
  },
  {
   "cell_type": "markdown",
   "metadata": {},
   "source": [
    "# Training:\n",
    "##### Here we define our pytorch trainer, since we are using Roberta-large and our dataset is large, it will take quite a while to train, about 2 hours for 1 epoch using RTX 4090, so you can just load our trained model with best result in \"./runs/test_pred_large_full_epoch5_lr3e-6_bs16/training_result/model.pth\" in the block below testing:"
   ]
  },
  {
   "cell_type": "code",
   "execution_count": 50,
   "metadata": {},
   "outputs": [],
   "source": [
    "class Trainer:\n",
    "    def __init__(self, log_dir, model, encoded_data):\n",
    "        '''Initialize the varibles for training\n",
    "        Args:\n",
    "            log_dir: (pathlib.Path) the direction used for logging\n",
    "        '''\n",
    "        self.log_dir = log_dir\n",
    "        print(self.log_dir)\n",
    "        # Split into train and valid, 8:2\n",
    "        self.train_inputs, self.validation_inputs, self.train_attentions, self.validation_attentions, self.train_labels, self.validation_labels = train_test_split(encoded_data['input_ids'],\n",
    "                                                                                            encoded_data['attention_mask'],\n",
    "                                                                                            encoded_data['labels'],\n",
    "                                                                                            random_state=42,\n",
    "                                                                                            test_size=0.2)\n",
    "        self.batch_size = 16\n",
    "        self.train_dataset = TensorDataset(self.train_inputs, self.train_attentions, self.train_labels)\n",
    "        self.train_loader = DataLoader(self.train_dataset, batch_size=self.batch_size, shuffle=True, num_workers=0)\n",
    "        self.validation_dataset = TensorDataset(self.validation_inputs, self.validation_attentions, self.validation_labels)\n",
    "        self.valid_loader = DataLoader(self.validation_dataset, batch_size=self.batch_size, shuffle=False, num_workers=0)\n",
    "\n",
    "        print(len(self.train_dataset))\n",
    "\n",
    "\n",
    "        # model, loss function, optimizer\n",
    "        self.device = 'cuda'\n",
    "        self.model = model.to(self.device)\n",
    "        self.criterion = torch.nn.CrossEntropyLoss()\n",
    "        self.lr = 5e-6\n",
    "        self.optimizer = torch.optim.Adam(model.parameters(), lr=self.lr)\n",
    "        self.lr_decay = 0.5\n",
    "        self.scheduler = torch.optim.lr_scheduler.StepLR(self.optimizer, 1, gamma=self.lr_decay, last_epoch=-1, verbose=False)\n",
    "        # self.scheduler = torch.optim.lr_scheduler.ReduceLROnPlateau(self.optimizer, 'min', verbose=True)\n",
    "        self.max_epoch = 8\n",
    "\n",
    "    def run(self):\n",
    "        training_result_dir = self.log_dir / 'training_result'\n",
    "        training_result_dir.mkdir(parents=True)\n",
    "        metrics = {'train_loss': [], 'valid_loss': []}\n",
    "        lrs = []\n",
    "        for self.epoch in range(self.max_epoch): # epochs\n",
    "            train_loss = self.train() # train 1 epoch\n",
    "            valid_loss = self.valid() # valid 1 epoch\n",
    "            print('lr:',get_lr(self.optimizer))\n",
    "            lrs.append(get_lr(self.optimizer))\n",
    "            print(f'Epoch {self.epoch:03d}:')\n",
    "            print('train loss:', train_loss)\n",
    "            print('valid loss:', valid_loss)\n",
    "            metrics['train_loss'].append(train_loss)\n",
    "            metrics['valid_loss'].append(valid_loss)\n",
    "            # Save the parameters(weights) of the model to disk\n",
    "            if torch.tensor(metrics['valid_loss']).argmin() == self.epoch:\n",
    "                torch.save(self.model.state_dict(), str(training_result_dir / 'model.pth'))\n",
    "        \n",
    "        # Plot the loss curve against epoch\n",
    "        fig, ax = plt.subplots(1, 1, figsize=(10, 10), dpi=100)\n",
    "        ax.set_title(f'Loss(batch_size:{self.batch_size}, lr:{self.lr}, lr_decay:{self.lr_decay if self.lr_decay else \"False\"})')\n",
    "        ax.plot(range(self.epoch + 1), metrics['train_loss'], label='Train')\n",
    "        ax.plot(range(self.epoch + 1), metrics['valid_loss'], label='Valid')\n",
    "        ax.legend()\n",
    "        plt.show()\n",
    "        fig.savefig(str(training_result_dir / 'metrics.jpg'))\n",
    "        plt.close()\n",
    "\n",
    "\n",
    "    def train(self):\n",
    "        '''Train one epoch\n",
    "        1. Switch model to training mode\n",
    "        2. Iterate mini-batches and do:\n",
    "            a. clear gradient\n",
    "            b. forward to get loss\n",
    "            c. loss backward\n",
    "            d. update parameters\n",
    "        3. Return the average loss in this epoch\n",
    "        '''\n",
    "        self.model.train()\n",
    "        loss_steps = []\n",
    "\n",
    "        for batch_inputs, batch_attentions, batch_labels in tqdm(self.train_loader):\n",
    "            batch_inputs, batch_attentions, batch_labels = batch_inputs.to(self.device), batch_attentions.to(self.device), batch_labels.to(self.device)\n",
    "            # Forward pass\n",
    "            outputs = model(input_ids=batch_inputs, attention_mask=batch_attentions ,labels=batch_labels)\n",
    "            loss = outputs.loss\n",
    "            # print(outputs.logits)\n",
    "            # predictions = torch.nn.functional.softmax(outputs.logits, dim=1)\n",
    "            # print(predictions)\n",
    "            # predictions = torch.argmax(predictions, dim=1)\n",
    "            # print(batch_labels, predictions)\n",
    "            # print(loss)\n",
    "            # Backward pass and optimization\n",
    "            self.optimizer.zero_grad()\n",
    "            loss.backward()\n",
    "            self.optimizer.step()\n",
    "            loss_steps.append(loss.detach().item())\n",
    "            # total_loss += loss.item()\n",
    "            # self.scheduler.step()\n",
    "        \n",
    "        # Calculate average training loss for the epoch\n",
    "        avg_train_loss = sum(loss_steps) / len(self.train_loader)\n",
    "        print(f\"Epoch {self.epoch + 1}, Avg. Training Loss: {avg_train_loss:.4f}\")\n",
    "        \n",
    "        return avg_train_loss\n",
    "\n",
    "    @torch.no_grad()\n",
    "    def valid(self):\n",
    "        '''Validate one epoch\n",
    "        1. Switch model to evaluation mode and turn off gradient (by @torch.no_grad() or with torch.no_grad())\n",
    "        2. Iterate mini-batches and do forwarding to get loss\n",
    "        3. Return average loss in this epoch\n",
    "        '''\n",
    "        self.model.eval()\n",
    "        loss_steps = []\n",
    "        all_predictions = []\n",
    "        all_true_labels = []\n",
    "\n",
    "        for batch_inputs, batch_attentions, batch_labels in self.valid_loader:\n",
    "            batch_inputs, batch_attentions, batch_labels = batch_inputs.to(self.device), batch_attentions.to(self.device), batch_labels.to(self.device)\n",
    "            # Forward pass\n",
    "            outputs = self.model(input_ids=batch_inputs, attention_mask=batch_attentions)\n",
    "            predictions = outputs.logits.cpu()\n",
    "            # predictions = torch.nn.functional.softmax(outputs.logits).cpu()\n",
    "            # predictions = torch.argmax(predictions, dim=1).cpu().numpy()\n",
    "            true_labels = batch_labels.cpu()\n",
    "            # print(predictions, true_labels)\n",
    "            loss_steps.append(self.criterion(predictions, true_labels))\n",
    "            true_labels = true_labels.numpy()\n",
    "            all_predictions.extend(predictions)\n",
    "            all_true_labels.extend(true_labels)\n",
    "\n",
    "            \n",
    "\n",
    "        # Calculate accuracy on the validation set\n",
    "        avg_valid_loss = sum(loss_steps) / len(self.valid_loader)\n",
    "        print(f\"Epoch {self.epoch + 1}, Validation Accuracy: {avg_valid_loss:.4f}\")\n",
    "        return avg_valid_loss\n",
    "\n",
    "def get_lr(optimizer):\n",
    "    for param_group in optimizer.param_groups:\n",
    "        return param_group['lr']\n",
    "\n",
    "\n",
    "log_dir = Path('./runs/') / f'{datetime.now():%b%d_%H_%M_%S}'\n",
    "log_dir.mkdir(parents=True, exist_ok=True)\n",
    "model = RobertaForSequenceClassification.from_pretrained('roberta-large', num_labels=len(label_map), problem_type = 'single_label_classification')\n",
    "Trainer(log_dir, model, encoded_data).run()"
   ]
  },
  {
   "cell_type": "markdown",
   "metadata": {},
   "source": [
    "### 4. Inference:\n",
    "##### Predict our testing dataset emotions and save it as csv:"
   ]
  },
  {
   "cell_type": "markdown",
   "metadata": {},
   "source": [
    "# Testing:\n",
    "##### Here we load our testing dataset, tokennize it and create the dataloader:"
   ]
  },
  {
   "cell_type": "code",
   "execution_count": 23,
   "metadata": {},
   "outputs": [
    {
     "name": "stdout",
     "output_type": "stream",
     "text": [
      "torch.Size([411972, 218])\n"
     ]
    }
   ],
   "source": [
    "test_encoded_data = tokenizer(list(test_df['text']), truncation=True, padding=True, return_tensors='pt', max_length=256)\n",
    "\n",
    "class CustomTestDataset(TensorDataset):\n",
    "    def __init__(self, tweet_ids, input_ids, attention_mask):\n",
    "        super(CustomTestDataset, self).__init__(input_ids,attention_mask)\n",
    "        self.tweet_ids = tweet_ids\n",
    "\n",
    "    def __getitem__(self, index):\n",
    "        # Return both input_ids tensor and tweet_id\n",
    "        return (self.tweet_ids[index], super(CustomTestDataset, self).__getitem__(index))\n",
    "    \n",
    "test_dataset = CustomTestDataset(test_df[\"tweet_id\"].values, test_encoded_data['input_ids'], test_encoded_data['attention_mask'])\n",
    "\n",
    "# Create the data loader\n",
    "test_loader = DataLoader(test_dataset, batch_size=16, shuffle=False)\n",
    "\n",
    "print(test_encoded_data['input_ids'].size())\n"
   ]
  },
  {
   "cell_type": "markdown",
   "metadata": {},
   "source": [
    "##### Load our trained weights into our model:"
   ]
  },
  {
   "cell_type": "code",
   "execution_count": 24,
   "metadata": {},
   "outputs": [
    {
     "name": "stdout",
     "output_type": "stream",
     "text": [
      "runs\\test_pred_large_full_epoch5_lr3e-6_bs16\\training_result\\model.pth\n",
      "testing_result\\Dec30_20_16_39\n"
     ]
    }
   ],
   "source": [
    "device = 'cuda'\n",
    "model = model.to(device)\n",
    "log_dir =  Path('./runs/') / 'test_pred_large_full_epoch5_lr3e-6_bs16'\n",
    "model.load_state_dict(torch.load(str(log_dir / 'training_result/model.pth')))\n",
    "# model.eval()\n",
    "print(str(log_dir / 'training_result/model.pth'))\n",
    "\n",
    "log_dir_test = Path('./testing_result') / f'{datetime.now():%b%d_%H_%M_%S}'\n",
    "log_dir_test.mkdir(parents=True)\n",
    "print(log_dir_test)"
   ]
  },
  {
   "cell_type": "code",
   "execution_count": 1,
   "metadata": {},
   "outputs": [],
   "source": [
    "# model.state_dict()"
   ]
  },
  {
   "cell_type": "markdown",
   "metadata": {},
   "source": [
    "##### Testing model prediction using random sentence:"
   ]
  },
  {
   "cell_type": "code",
   "execution_count": 60,
   "metadata": {},
   "outputs": [
    {
     "name": "stdout",
     "output_type": "stream",
     "text": [
      "Felt like total dog 💩 going into open gym and had a migraine Played through and sweated it out and my sweat has never been that bad. <LH>\n",
      "SequenceClassifierOutput(loss=None, logits=tensor([[-0.4467,  0.0569,  0.7836, -2.3658, -0.2151, -0.5494,  1.5402,  1.7775]],\n",
      "       device='cuda:0', grad_fn=<AddmmBackward0>), hidden_states=None, attentions=None)\n",
      "joy\n"
     ]
    }
   ],
   "source": [
    "test = test_df['text'].iloc[4]\n",
    "print(test)\n",
    "test_encoded_data = tokenizer(test, truncation=True, padding=True, return_tensors='pt', max_length=256)\n",
    "model.eval()\n",
    "predictions = model(input_ids=test_encoded_data['input_ids'].cuda(), attention_mask=test_encoded_data['attention_mask'].cuda())\n",
    "print(predictions)\n",
    "predictions = torch.argmax(predictions.logits, dim=1)\n",
    "print(target_list[predictions])\n"
   ]
  },
  {
   "cell_type": "code",
   "execution_count": null,
   "metadata": {},
   "outputs": [],
   "source": [
    "def test():\n",
    "    model.eval()\n",
    "    all_predictions = []\n",
    "    all_tweet_ids = []\n",
    "    for batch_inputs in tqdm(test_loader):\n",
    "        tweet_ids = list(batch_inputs[0])\n",
    "        # print(tweet_ids)\n",
    "        batch_inputs[1][0] = batch_inputs[1][0].to(device)\n",
    "        batch_inputs[1][1] = batch_inputs[1][1].to(device)\n",
    "        # Forward pass\n",
    "        outputs = model(input_ids=batch_inputs[1][0], attention_mask=batch_inputs[1][1])\n",
    "        logits = outputs.logits\n",
    "        predictions = torch.nn.functional.softmax(logits, dim=1)\n",
    "        # print(predictions)\n",
    "        predictions = torch.argmax(predictions, dim=1)\n",
    "        predicted_labels = [target_list[idx] for idx in predictions]\n",
    "        # print(predicted_labels)\n",
    "        all_tweet_ids.extend(tweet_ids)\n",
    "        all_predictions.extend(predicted_labels)\n",
    "\n",
    "    \n",
    "    predicted_dict = dict(zip(all_tweet_ids, all_predictions))\n",
    "    # print(predicted_dict)\n",
    "    return predicted_dict\n",
    "\n",
    "\n",
    "with torch.no_grad():\n",
    "    df_pred = test()\n",
    "    print(df_pred)"
   ]
  },
  {
   "cell_type": "code",
   "execution_count": null,
   "metadata": {},
   "outputs": [],
   "source": [
    "len(df_pred)"
   ]
  },
  {
   "cell_type": "code",
   "execution_count": null,
   "metadata": {},
   "outputs": [
    {
     "name": "stdout",
     "output_type": "stream",
     "text": [
      "{'sadness', 'disgust', 'surprise', 'anticipation', 'trust', 'joy', 'anger', 'fear'}\n"
     ]
    }
   ],
   "source": [
    "unique_val_set = set(df_pred.values())\n",
    "print(unique_val_set)"
   ]
  },
  {
   "cell_type": "markdown",
   "metadata": {},
   "source": [
    "##### Submission CSV file is stored in ./testing_result:"
   ]
  },
  {
   "cell_type": "code",
   "execution_count": null,
   "metadata": {},
   "outputs": [],
   "source": [
    "result_df = pd.DataFrame(list(df_pred.items()))\n",
    "print(len(result_df))\n",
    "result_df.head()\n",
    "result_df.columns = ['id', 'emotion']\n",
    "result_df.reset_index(drop=True, inplace=True)\n",
    "result_df.to_csv(str(log_dir_test / 'test_pred.csv'), index=False)"
   ]
  }
 ],
 "metadata": {
  "kernelspec": {
   "display_name": "Python 3 (ipykernel)",
   "language": "python",
   "name": "python3"
  },
  "language_info": {
   "codemirror_mode": {
    "name": "ipython",
    "version": 3
   },
   "file_extension": ".py",
   "mimetype": "text/x-python",
   "name": "python",
   "nbconvert_exporter": "python",
   "pygments_lexer": "ipython3",
   "version": "3.9.18"
  },
  "varInspector": {
   "cols": {
    "lenName": 16,
    "lenType": 16,
    "lenVar": 40
   },
   "kernels_config": {
    "python": {
     "delete_cmd_postfix": "",
     "delete_cmd_prefix": "del ",
     "library": "var_list.py",
     "varRefreshCmd": "print(var_dic_list())"
    },
    "r": {
     "delete_cmd_postfix": ") ",
     "delete_cmd_prefix": "rm(",
     "library": "var_list.r",
     "varRefreshCmd": "cat(var_dic_list()) "
    }
   },
   "types_to_exclude": [
    "module",
    "function",
    "builtin_function_or_method",
    "instance",
    "_Feature"
   ],
   "window_display": false
  }
 },
 "nbformat": 4,
 "nbformat_minor": 2
}
